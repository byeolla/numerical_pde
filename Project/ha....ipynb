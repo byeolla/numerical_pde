{
 "cells": [
  {
   "cell_type": "code",
   "execution_count": 1,
   "id": "b79943bd",
   "metadata": {},
   "outputs": [],
   "source": [
    "import numpy as np\n",
    "from numpy.linalg import inv\n",
    "from numpy import matmul\n",
    "import matplotlib.pyplot as plt\n",
    "from scipy.sparse import diags as sdiags\n",
    "import itertools\n",
    "from tqdm import tqdm"
   ]
  },
  {
   "cell_type": "markdown",
   "id": "4e4ad82c",
   "metadata": {},
   "source": [
    "# 1D"
   ]
  },
  {
   "cell_type": "code",
   "execution_count": 2,
   "id": "771e01cc",
   "metadata": {},
   "outputs": [],
   "source": [
    "def mesh(t, x):\n",
    "    t0, tf, dt = t[0], t[1], t[2]\n",
    "    x0, xf, dx = x[0], x[1], x[2]\n",
    "    mu = dt/(dx * dx)\n",
    "    x = np.linspace(x0, xf, int((xf - x0)/dx) + 1)\n",
    "    t = np.linspace(t0, tf, int((tf - t0)/dt) + 1)\n",
    "\n",
    "    xx, tt = np.meshgrid(x, t)\n",
    "    u = np.zeros_like(xx)\n",
    "    u[0, :] = initial_cond(x)\n",
    "    u[:, 0] = 0\n",
    "    u[:, -1] = 0\n",
    "    return u, xx, mu\n",
    "\n"
   ]
  },
  {
   "cell_type": "code",
   "execution_count": 3,
   "id": "0043b3cb",
   "metadata": {},
   "outputs": [],
   "source": [
    "def initial_cond(x):\n",
    "    return 150 * (-0.5 + np.random.randn(x.size))"
   ]
  },
  {
   "cell_type": "code",
   "execution_count": 4,
   "id": "741c1cdd",
   "metadata": {},
   "outputs": [],
   "source": [
    "def pot(x):\n",
    "#     return np.zeros_like(x)\n",
    "    return 0.5*((x)**2)"
   ]
  },
  {
   "cell_type": "code",
   "execution_count": 5,
   "id": "560e2725",
   "metadata": {},
   "outputs": [],
   "source": [
    "def normalizer(x, dx):\n",
    "    n = np.sqrt(np.trapz(x**2, dx=dx))\n",
    "    return x/n"
   ]
  },
  {
   "cell_type": "code",
   "execution_count": 6,
   "id": "a74088e6",
   "metadata": {},
   "outputs": [],
   "source": [
    "def matrix(mu, u, pot):\n",
    "    ll = u\n",
    "    maindiag = np.zeros(ll)\n",
    "    maindiag[:] = 1+0.5*mu\n",
    "    subdiag = np.zeros(ll-1)\n",
    "    subdiag[:] = -mu\n",
    "    A = sdiags([maindiag, subdiag, subdiag], [0,1,-1]).toarray()\n",
    "\n",
    "    maindiag2 = np.zeros_like(maindiag)\n",
    "    maindiag2[:] = 1-0.5*mu + 4*pot\n",
    "\n",
    "    B = sdiags([maindiag2, -subdiag, -subdiag], [0,1,-1]).toarray()\n",
    "    return inv(A), B\n",
    "\n",
    "    "
   ]
  },
  {
   "cell_type": "code",
   "execution_count": 7,
   "id": "b31616f1",
   "metadata": {},
   "outputs": [],
   "source": [
    "def solver(u, mu, A, B, DL, DR):\n",
    "    sol = matmul(A, B)\n",
    "    bj = np.zeros_like(u)\n",
    "    bj[0] = mu*DL ; bj[-1] = mu*DR\n",
    "    # bj1[0] = mu*DL ; bj[-1] = mu*DR\n",
    "\n",
    "    v = matmul(sol, u) + bj\n",
    "    return v"
   ]
  },
  {
   "cell_type": "code",
   "execution_count": 8,
   "id": "08a26a89",
   "metadata": {},
   "outputs": [],
   "source": [
    "def cn(mesh, mu ,DL, DR, h, func_pot=None):\n",
    "    pot = None\n",
    "    if func_pot is not None:\n",
    "        pot = func_pot\n",
    "\n",
    "    def energy(psi, h, pot=None):\n",
    "        if pot is None:\n",
    "            pot = np.zeros_like(psi)\n",
    "        psi_sqr = np.sum(psi * psi)\n",
    "        nn = np.sum(psi_sqr)\n",
    "        \n",
    "\n",
    "\n",
    "\n",
    "\n",
    "    ener = np.zeros(mesh.shape[0])\n",
    "    \n",
    "\n",
    "    mat1, mat2 = matrix(mu, mesh.shape[1], pot=pot)\n",
    "    for i in tqdm(range(mesh.shape[0] - 1)):\n",
    "        mesh[i+1, :] = solver(mesh[i, :], mu, mat1, mat2, DL, DR)\n",
    "        mesh[i+1, :] = normalizer(mesh[i+1, :], h)\n",
    "    return mesh\n"
   ]
  },
  {
   "cell_type": "code",
   "execution_count": 9,
   "id": "0bf6cd1c",
   "metadata": {},
   "outputs": [],
   "source": [
    "t = (0., 1., 1e-5)\n",
    "x = (-10., 10., 1e-1)\n"
   ]
  },
  {
   "cell_type": "code",
   "execution_count": 10,
   "id": "9a44ca1e",
   "metadata": {},
   "outputs": [],
   "source": [
    "u, grid, mu = mesh(t, x)"
   ]
  },
  {
   "cell_type": "code",
   "execution_count": 12,
   "id": "08a44f61",
   "metadata": {},
   "outputs": [],
   "source": [
    "potential = pot(grid[-1])"
   ]
  },
  {
   "cell_type": "code",
   "execution_count": 13,
   "id": "ab467a3e",
   "metadata": {},
   "outputs": [
    {
     "name": "stderr",
     "output_type": "stream",
     "text": [
      "100%|██████████████████████████████████████████████████████████████████████████| 99999/99999 [00:37<00:00, 2632.71it/s]\n"
     ]
    }
   ],
   "source": [
    "final = cn(u, mu, 0, 0, x[-1], func_pot=potential)\n"
   ]
  },
  {
   "cell_type": "code",
   "execution_count": 14,
   "id": "1d7a353f",
   "metadata": {},
   "outputs": [
    {
     "data": {
      "image/png": "[encoded data removed]",
      "text/plain": [
       "<Figure size 640x480 with 1 Axes>"
      ]
     },
     "metadata": {},
     "output_type": "display_data"
    }
   ],
   "source": [
    "plt.plot(grid[-1], final[-1]**2, 'rx', label=\"numeric\")\n",
    "# plt.plot(grid[-1], (np.sqrt(2)*np.sin(np.pi*grid[-1]))**2, label=\"true sol\")\n",
    "plt.plot(grid[-1], np.exp(-1.0 * grid[-1] * grid[-1]) / np.sqrt(np.pi), label=\"true sol\")\n",
    "plt.legend()\n",
    "plt.ylim(0, 2)\n",
    "plt.show()"
   ]
  },
  {
   "cell_type": "code",
   "execution_count": null,
   "id": "3ca55267",
   "metadata": {},
   "outputs": [],
   "source": []
  }
 ],
 "metadata": {
  "kernelspec": {
   "display_name": "Python [conda env:numerical_pde] *",
   "language": "python",
   "name": "conda-env-numerical_pde-py"
  },
  "language_info": {
   "codemirror_mode": {
    "name": "ipython",
    "version": 3
   },
   "file_extension": ".py",
   "mimetype": "text/x-python",
   "name": "python",
   "nbconvert_exporter": "python",
   "pygments_lexer": "ipython3",
   "version": "3.10.4"
  }
 },
 "nbformat": 4,
 "nbformat_minor": 5
}
