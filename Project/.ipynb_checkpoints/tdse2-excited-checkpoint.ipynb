{
 "cells": [
  {
   "cell_type": "markdown",
   "metadata": {},
   "source": [
    "# Solving the Schroedinger Equations Using the Finite Difference Itme Domain Method"
   ]
  },
  {
   "cell_type": "markdown",
   "metadata": {},
   "source": [
    "10.1088/1751-8113/40/8/013"
   ]
  },
  {
   "cell_type": "code",
   "execution_count": 1,
   "metadata": {},
   "outputs": [],
   "source": [
    "import dataclasses\n",
    "import itertools\n",
    "import math\n",
    "\n",
    "import numpy as np\n",
    "from scipy.sparse import diags\n",
    "\n",
    "from IPython import display\n",
    "import matplotlib as mpl\n",
    "from matplotlib import pyplot as plt\n",
    "from matplotlib.animation import FuncAnimation\n",
    "\n",
    "from tqdm import tqdm"
   ]
  },
  {
   "cell_type": "code",
   "execution_count": 2,
   "metadata": {},
   "outputs": [],
   "source": [
    "@dataclasses.dataclass(frozen=True)\n",
    "class Boundary:\n",
    "    start: float\n",
    "    end: float\n",
    "    step: float"
   ]
  },
  {
   "cell_type": "raw",
   "metadata": {},
   "source": [
    "def cartesian(arrays):\n",
    "    shape = [a.size for a in arrays]\n",
    "    shape.append(-1)\n",
    "    def inner(arrays, out=None):\n",
    "        arrays = [np.asarray(a) for a in arrays]\n",
    "        dtype = arrays[0].dtype\n",
    "\n",
    "        asx = [a.size for a in arrays]\n",
    "        n = np.prod(asx)\n",
    "\n",
    "        if out is None:\n",
    "            out = np.zeros([n, len(arrays)], dtype=dtype)\n",
    "\n",
    "        m = n // arrays[0].size\n",
    "        out[:, 0] = np.repeat(arrays[0], m)\n",
    "        if arrays[1:]:\n",
    "            inner(arrays[1:], out[0:m, 1:])\n",
    "            for j in range(1, arrays[0].size):\n",
    "                out[j*m:(j+1)*m, 1:] = out[0:m, 1:]\n",
    "        return out\n",
    "    out = inner(arrays, out=None)\n",
    "    out =  out.reshape(shape)\n",
    "    return out"
   ]
  },
  {
   "cell_type": "code",
   "execution_count": 3,
   "metadata": {},
   "outputs": [],
   "source": [
    "class DirichletSystem:\n",
    "    def __init__(self, pot, time_dom, spatial_doms, bd_cond=None, max_iter=None, stop_tol=1.0e-5, prior_vecs=None, **kwargs) -> None:\n",
    "        self.pbc = False\n",
    "        if prior_vecs is None:\n",
    "            self.priors = []\n",
    "        else:\n",
    "            self.priors = list(prior_vecs)\n",
    "        self.pot = pot\n",
    "        # 0: time, 1: X, 2: Y, 3: Z\n",
    "        self.time_dom = time_dom\n",
    "        self.spat_dom = list(spatial_doms)\n",
    "        self.vol = np.prod([dom.step for dom in self.spat_dom])\n",
    "        self.time_len = int((time_dom.end - time_dom.start) / time_dom.step) + 1\n",
    "        self._init_mesh()\n",
    "        # self._initialize()\n",
    "        self.bd_cond = bd_cond\n",
    "        self.counter = 0\n",
    "        self.stop_tol = stop_tol\n",
    "        self.max_iter = max_iter\n",
    "        self.logs = []\n",
    "    \n",
    "    def _init_mesh(self):\n",
    "        self.spaces = [np.linspace(dom.start, dom.end, int((dom.end - dom.start) / dom.step) + 1) for dom in self.spat_dom]\n",
    "        space_meshs = [x for x in np.meshgrid(*self.spaces, indexing='ij')]\n",
    "        print(space_meshs[0].shape)\n",
    "        self.sol_mesh = np.zeros([self.time_len, *space_meshs[0].shape])\n",
    "        self.sol_shape = tuple(space_meshs[0].shape)\n",
    "        self.space_meshs = np.asarray([x.flatten() for x in space_meshs])\n",
    "        self.ndim = len(self.sol_shape)\n",
    "\n",
    "    def normalize(self, psi):\n",
    "        nn = np.sqrt(np.sum(psi * psi) * self.vol)\n",
    "        nn = 1.0 / nn\n",
    "        out = psi * nn\n",
    "        return out\n",
    "\n",
    "    def _initialize(self, psi0_grid):\n",
    "#         self.sol_mesh[0] = self.normalize(psi0_grid)\n",
    "        self.sol_mesh[0] = psi0_grid\n",
    "        self._apply_boundary(0)\n",
    "\n",
    "        pot_grid = np.zeros(np.prod(self.sol_shape))\n",
    "        for i, xi in enumerate(zip(*self.space_meshs)):\n",
    "            pot_grid[i] = self.pot(*xi)\n",
    "        self.pot_grid = pot_grid.reshape(self.sol_shape)\n",
    "\n",
    "    def set_psi0_by_func(self, func):\n",
    "        psi0_grid = np.zeros(np.prod(self.sol_shape))\n",
    "        for i, xi in enumerate(zip(*self.space_meshs)):\n",
    "            psi0_grid[i] = func(*xi)\n",
    "        psi0_grid = psi0_grid.reshape(self.sol_shape)\n",
    "        self._initialize(psi0_grid)\n",
    "\n",
    "    def set_psi0_by_grid(self, psi0_grid):\n",
    "        self._initialize(psi0_grid)\n",
    "\n",
    "    def _apply_boundary(self, n):\n",
    "        if (self.bd_cond is None) and (self.pbc == False):\n",
    "            sx = slice(None, None, None)\n",
    "            for i, l in enumerate(self.sol_shape):\n",
    "                ind = tuple([0 if i == j else sx for j in range(self.ndim)])\n",
    "                self.sol_mesh[n][ind] = 0.0\n",
    "                ind = tuple([l - 1 if i == j else sx for j in range(self.ndim)])\n",
    "                self.sol_mesh[n][ind] = 0.0\n",
    "                \n",
    "    def _prepare(self, *args, **kwargs):\n",
    "        psi = self.sol_mesh[0]\n",
    "        for vec in self.priors:\n",
    "            inner = np.sum(psi * self.normalize(vec) * self.vol)\n",
    "            self.sol_mesh[0] -= inner * vec\n",
    "\n",
    "    def solve(self):\n",
    "        dt = self.time_dom.step\n",
    "        self.energy_series = np.zeros(self.time_len)\n",
    "        sx = slice(None, None, None)\n",
    "\n",
    "        beta = (1.0 + 0.5 * dt * self.pot_grid)\n",
    "        alpha = (1.0 - 0.5 * dt * self.pot_grid) / beta\n",
    "        self._prepare()\n",
    "        \n",
    "        if self.max_iter is not None and self.max_iter < self.time_len:\n",
    "            t_len = self.max_iter\n",
    "        else:\n",
    "            t_len = self.time_len\n",
    "    \n",
    "        for n in tqdm(range(0, t_len)):\n",
    "            self.counter = n\n",
    "            kine = np.zeros(self.sol_shape)\n",
    "            px = self.sol_mesh[n]\n",
    "\n",
    "            self._prepare()\n",
    "            \n",
    "            for i in range(self.ndim):\n",
    "                if self.pbc:\n",
    "                    ind0 = tuple([0 if i == j else sx for j in range(self.ndim)])\n",
    "                    ind1 = tuple([1 if i == j else sx for j in range(self.ndim)])\n",
    "                    ind2 = tuple([-1 if i == j else sx for j in range(self.ndim)])\n",
    "                    ind3 = tuple([-2 if i == j else sx for j in range(self.ndim)])\n",
    "                    \n",
    "                    px[ind2] = px[ind0] + (1/3) * px[ind3] - (1/3) * px[ind1]\n",
    "                \n",
    "                ind1 = tuple([slice(1, -1, None) if i == j else sx for j in range(self.ndim)])\n",
    "                ind2 = tuple([slice(0, -2, None) if i == j else sx for j in range(self.ndim)])\n",
    "                ind3 = tuple([slice(2, None, None) if i == j else sx for j in range(self.ndim)])\n",
    "\n",
    "                term = px[ind2] + px[ind3] - 2.0 * px[ind1]\n",
    "\n",
    "                if self.pbc:\n",
    "                    ind0 = tuple([0 if i == j else sx for j in range(self.ndim)])\n",
    "                    ind1 = tuple([1 if i == j else sx for j in range(self.ndim)])\n",
    "                    ind2 = tuple([-1 if i == j else sx for j in range(self.ndim)])\n",
    "                    ind3 = tuple([-2 if i == j else sx for j in range(self.ndim)])\n",
    "                    \n",
    "                    term += px[ind3]\n",
    "                    term += px[ind1]\n",
    "                    term -= px[ind0]\n",
    "                    term -= px[ind2]\n",
    "                \n",
    "                ind1 = tuple([slice(1, -1, None) if i == j else sx for j in range(self.ndim)])\n",
    "                term /= (2.0 * self.spat_dom[i].step ** 2)\n",
    "                kine[ind1] += term\n",
    "\n",
    "            energy_before = np.sum(self.pot_grid * px * px) - (kine * px).sum()\n",
    "            energy_before /= (px * px).sum()\n",
    "\n",
    "            self.energy_series[n] = energy_before # * self.vol ** 2\n",
    "            \n",
    "            if n + 1 < self.time_len:\n",
    "                self.sol_mesh[n + 1] = alpha * self.sol_mesh[n]\n",
    "                self.sol_mesh[n + 1] += dt * beta * kine\n",
    "                # self._apply_boundary(n + 1)\n",
    "                \n",
    "                psi = self.sol_mesh[n + 1]\n",
    "                nn2 = np.sum(psi * psi) * self.vol\n",
    "                self.logs.append(np.sqrt(nn2))\n",
    "                \n",
    "                self.sol_mesh[n + 1] = self.normalize(self.sol_mesh[n + 1])\n",
    "\n",
    "            if n > 0 and self.stop_tol is not None:\n",
    "                error = np.abs(1 - self.energy_series[n - 1] / energy_before)\n",
    "                if error < self.stop_tol:\n",
    "                    break\n",
    "\n",
    "    def get_solution(self):\n",
    "        return self.spaces, self.sol_mesh[self.counter]\n",
    "    \n",
    "    def get_full_mesh(self):\n",
    "        return self.spaces, self.sol_mesh\n",
    "\n",
    "    def get_energy(self):\n",
    "        return self.energy_series"
   ]
  },
  {
   "cell_type": "code",
   "execution_count": 4,
   "metadata": {},
   "outputs": [],
   "source": [
    "def draw_energies(ex):\n",
    "    fig1, ax1 = plt.subplots()\n",
    "    y1 = np.ones_like(ex[0]) * np.pi**2/2*1\n",
    "    y2 = np.ones_like(ex[0]) * np.pi**2/2*4\n",
    "    y3 = np.ones_like(ex[0]) * np.pi**2/2*9\n",
    "    ax1.plot(y1)\n",
    "    ax1.plot(y2)\n",
    "    ax1.plot(y3)\n",
    "    for ee in ex:\n",
    "        ax1.plot(ee)\n",
    "    ax1.grid()\n",
    "    ax1.set_ylim(0, 60.0)\n",
    "    plt.show(fig1)"
   ]
  },
  {
   "cell_type": "code",
   "execution_count": 5,
   "metadata": {},
   "outputs": [
    {
     "name": "stdout",
     "output_type": "stream",
     "text": [
      "(101,)\n"
     ]
    },
    {
     "name": "stderr",
     "output_type": "stream",
     "text": [
      "100%|█████████████████████████████████████████████████████████████████████████| 50000/50000 [00:03<00:00, 15721.85it/s]\n"
     ]
    },
    {
     "data": {
      "image/png": "[encoded data removed]",
      "text/plain": [
       "<Figure size 640x480 with 1 Axes>"
      ]
     },
     "metadata": {},
     "output_type": "display_data"
    },
    {
     "name": "stdout",
     "output_type": "stream",
     "text": [
      "(101,)\n"
     ]
    },
    {
     "name": "stderr",
     "output_type": "stream",
     "text": [
      "100%|█████████████████████████████████████████████████████████████████████████| 50000/50000 [00:04<00:00, 12427.20it/s]\n"
     ]
    }
   ],
   "source": [
    "x0, x1, dx = 0.0, 1.0, 0.01\n",
    "t0, t1, dt = 0.0, 1.0, dx*dx*0.2\n",
    "\n",
    "dom_t = Boundary(t0, t1, dt)\n",
    "dom_x = Boundary(x0, x1, dx)\n",
    "\n",
    "def pot(mesh):\n",
    "#     return np.zeros_like(mesh)\n",
    "    return mesh*mesh*100\n",
    "\n",
    "def init1(x):\n",
    "    return np.random.randn(1)\n",
    "\n",
    "def init2(x):\n",
    "    return np.random.rand() * 2 - 1\n",
    "\n",
    "sys1 = DirichletSystem(pot=pot, time_dom=dom_t, spatial_doms=[dom_x], stop_tol=1.0e-6, max_iter=None)\n",
    "sys1.set_psi0_by_func(init1)\n",
    "sys1.solve()\n",
    "\n",
    "draw_energies([sys1.get_energy()])\n",
    "\n",
    "_, u = sys1.get_solution()\n",
    "v1 = u.copy()\n",
    "\n",
    "sys2 = DirichletSystem(pot=pot, time_dom=dom_t, spatial_doms=[dom_x], prior_vecs=[v1], stop_tol=1.0e-6, max_iter=None)\n",
    "sys2.set_psi0_by_func(init1)\n",
    "sys2.solve()"
   ]
  },
  {
   "cell_type": "code",
   "execution_count": null,
   "metadata": {},
   "outputs": [],
   "source": [
    "X, U = sys2.get_full_mesh()\n",
    "energies = sys2.get_energy()\n",
    "\n",
    "draw_energies([energies])\n",
    "\n",
    "fig2, ax2 = plt.subplots()\n",
    "skip = 1\n",
    "# ax2.plot(X[0][::skip], U[sys2.counter][::skip] ** 2, 'rx', label='$\\psi_2$')\n",
    "ax2.plot(X[0][::skip], U[-1][::skip] ** 2, 'rx', label='$\\psi_2$')\n",
    "ax2.plot(X[0][::skip], v1[::skip] ** 2, 'bx', label='$\\psi_1$')\n",
    "# ax2.plot(X[0][::skip], U[1, ::skip] ** 2, 'gx')\n",
    "# ax2.plot(X[0], 2.0 * np.sin(X[0] * np.pi) **2, 'g-', lw=2, label='$\\phi$')\n",
    "ax2.legend()\n",
    "ax2.grid()\n",
    "plt.show(fig2)"
   ]
  },
  {
   "cell_type": "code",
   "execution_count": 7,
   "metadata": {},
   "outputs": [
    {
     "data": {
      "text/plain": [
       "(50000, 101)"
      ]
     },
     "execution_count": 7,
     "metadata": {},
     "output_type": "execute_result"
    }
   ],
   "source": [
    "U.shape"
   ]
  },
  {
   "cell_type": "code",
   "execution_count": 8,
   "metadata": {},
   "outputs": [
    {
     "data": {
      "text/plain": [
       "19.739208802178716"
      ]
     },
     "execution_count": 8,
     "metadata": {},
     "output_type": "execute_result"
    }
   ],
   "source": [
    "np.pi**2 / 2 * 4"
   ]
  },
  {
   "cell_type": "code",
   "execution_count": 9,
   "metadata": {},
   "outputs": [
    {
     "data": {
      "text/plain": [
       "[<matplotlib.lines.Line2D at 0x269d664be80>]"
      ]
     },
     "execution_count": 9,
     "metadata": {},
     "output_type": "execute_result"
    },
    {
     "data": {
      "image/png": "[encoded data removed]",
      "text/plain": [
       "<Figure size 640x480 with 1 Axes>"
      ]
     },
     "metadata": {},
     "output_type": "display_data"
    }
   ],
   "source": [
    "plt.plot(sys1.logs)"
   ]
  },
  {
   "cell_type": "code",
   "execution_count": 10,
   "metadata": {},
   "outputs": [
    {
     "data": {
      "text/plain": [
       "[<matplotlib.lines.Line2D at 0x269d682efe0>]"
      ]
     },
     "execution_count": 10,
     "metadata": {},
     "output_type": "execute_result"
    },
    {
     "data": {
      "image/png": "[encoded data removed]",
      "text/plain": [
       "<Figure size 640x480 with 1 Axes>"
      ]
     },
     "metadata": {},
     "output_type": "display_data"
    }
   ],
   "source": [
    "plt.plot(sys2.logs)"
   ]
  },
  {
   "cell_type": "code",
   "execution_count": 11,
   "metadata": {},
   "outputs": [
    {
     "name": "stdout",
     "output_type": "stream",
     "text": [
      "(201,)\n"
     ]
    },
    {
     "name": "stderr",
     "output_type": "stream",
     "text": [
      "100%|███████████████████████████████████████████████████████████████████████| 100000/100000 [00:06<00:00, 16139.91it/s]\n"
     ]
    }
   ],
   "source": [
    "t0, t1, dt = 0.0, 1.0, 1.0e-05\n",
    "x0, x1, dx = -10.0, 10.0, 0.1\n",
    "\n",
    "dom_t = Boundary(t0, t1, dt)\n",
    "dom_x = Boundary(x0, x1, dx)\n",
    "\n",
    "def pot(mesh):\n",
    "    return 0.5 * np.sum(mesh * mesh)\n",
    "\n",
    "def init(x):\n",
    "    return 100.0 - x ** 2\n",
    "    # return np.random.randn(*x.shape)\n",
    "\n",
    "system_1 = DirichletSystem(pot=pot, time_dom=dom_t, spatial_doms=[dom_x])\n",
    "system_1.set_psi0_by_func(init)\n",
    "system_1.solve()"
   ]
  },
  {
   "cell_type": "code",
   "execution_count": 12,
   "metadata": {},
   "outputs": [
    {
     "data": {
      "image/png": "[encoded data removed]",
      "text/plain": [
       "<Figure size 640x480 with 1 Axes>"
      ]
     },
     "metadata": {},
     "output_type": "display_data"
    },
    {
     "ename": "ValueError",
     "evalue": "x and y must have same first dimension, but have shapes (201,) and (1,)",
     "output_type": "error",
     "traceback": [
      "\u001b[1;31m---------------------------------------------------------------------------\u001b[0m",
      "\u001b[1;31mValueError\u001b[0m                                Traceback (most recent call last)",
      "Input \u001b[1;32mIn [12]\u001b[0m, in \u001b[0;36m<cell line: 11>\u001b[1;34m()\u001b[0m\n\u001b[0;32m      9\u001b[0m fig2, ax2 \u001b[38;5;241m=\u001b[39m plt\u001b[38;5;241m.\u001b[39msubplots()\n\u001b[0;32m     10\u001b[0m X \u001b[38;5;241m=\u001b[39m X[\u001b[38;5;241m0\u001b[39m]\n\u001b[1;32m---> 11\u001b[0m \u001b[43max2\u001b[49m\u001b[38;5;241;43m.\u001b[39;49m\u001b[43mplot\u001b[49m\u001b[43m(\u001b[49m\u001b[43mX\u001b[49m\u001b[43m,\u001b[49m\u001b[43m \u001b[49m\u001b[43mU\u001b[49m\u001b[43m[\u001b[49m\u001b[38;5;241;43m-\u001b[39;49m\u001b[38;5;241;43m1\u001b[39;49m\u001b[43m]\u001b[49m\u001b[43m \u001b[49m\u001b[38;5;241;43m*\u001b[39;49m\u001b[38;5;241;43m*\u001b[39;49m\u001b[43m \u001b[49m\u001b[38;5;241;43m2\u001b[39;49m\u001b[43m,\u001b[49m\u001b[43m \u001b[49m\u001b[38;5;124;43m'\u001b[39;49m\u001b[38;5;124;43mrx\u001b[39;49m\u001b[38;5;124;43m'\u001b[39;49m\u001b[43m)\u001b[49m\n\u001b[0;32m     12\u001b[0m ax2\u001b[38;5;241m.\u001b[39mplot(X, np\u001b[38;5;241m.\u001b[39mexp(\u001b[38;5;241m-\u001b[39m\u001b[38;5;241m1.0\u001b[39m \u001b[38;5;241m*\u001b[39m X \u001b[38;5;241m*\u001b[39m X) \u001b[38;5;241m/\u001b[39m np\u001b[38;5;241m.\u001b[39msqrt(np\u001b[38;5;241m.\u001b[39mpi))\n\u001b[0;32m     13\u001b[0m ax2\u001b[38;5;241m.\u001b[39mgrid()\n",
      "File \u001b[1;32m~\\miniconda3\\envs\\numerical_pde\\lib\\site-packages\\matplotlib\\axes\\_axes.py:1632\u001b[0m, in \u001b[0;36mAxes.plot\u001b[1;34m(self, scalex, scaley, data, *args, **kwargs)\u001b[0m\n\u001b[0;32m   1390\u001b[0m \u001b[38;5;124;03m\"\"\"\u001b[39;00m\n\u001b[0;32m   1391\u001b[0m \u001b[38;5;124;03mPlot y versus x as lines and/or markers.\u001b[39;00m\n\u001b[0;32m   1392\u001b[0m \n\u001b[1;32m   (...)\u001b[0m\n\u001b[0;32m   1629\u001b[0m \u001b[38;5;124;03m(``'green'``) or hex strings (``'#008000'``).\u001b[39;00m\n\u001b[0;32m   1630\u001b[0m \u001b[38;5;124;03m\"\"\"\u001b[39;00m\n\u001b[0;32m   1631\u001b[0m kwargs \u001b[38;5;241m=\u001b[39m cbook\u001b[38;5;241m.\u001b[39mnormalize_kwargs(kwargs, mlines\u001b[38;5;241m.\u001b[39mLine2D)\n\u001b[1;32m-> 1632\u001b[0m lines \u001b[38;5;241m=\u001b[39m [\u001b[38;5;241m*\u001b[39m\u001b[38;5;28mself\u001b[39m\u001b[38;5;241m.\u001b[39m_get_lines(\u001b[38;5;241m*\u001b[39margs, data\u001b[38;5;241m=\u001b[39mdata, \u001b[38;5;241m*\u001b[39m\u001b[38;5;241m*\u001b[39mkwargs)]\n\u001b[0;32m   1633\u001b[0m \u001b[38;5;28;01mfor\u001b[39;00m line \u001b[38;5;129;01min\u001b[39;00m lines:\n\u001b[0;32m   1634\u001b[0m     \u001b[38;5;28mself\u001b[39m\u001b[38;5;241m.\u001b[39madd_line(line)\n",
      "File \u001b[1;32m~\\miniconda3\\envs\\numerical_pde\\lib\\site-packages\\matplotlib\\axes\\_base.py:312\u001b[0m, in \u001b[0;36m_process_plot_var_args.__call__\u001b[1;34m(self, data, *args, **kwargs)\u001b[0m\n\u001b[0;32m    310\u001b[0m     this \u001b[38;5;241m+\u001b[39m\u001b[38;5;241m=\u001b[39m args[\u001b[38;5;241m0\u001b[39m],\n\u001b[0;32m    311\u001b[0m     args \u001b[38;5;241m=\u001b[39m args[\u001b[38;5;241m1\u001b[39m:]\n\u001b[1;32m--> 312\u001b[0m \u001b[38;5;28;01myield from\u001b[39;00m \u001b[38;5;28;43mself\u001b[39;49m\u001b[38;5;241;43m.\u001b[39;49m\u001b[43m_plot_args\u001b[49m\u001b[43m(\u001b[49m\u001b[43mthis\u001b[49m\u001b[43m,\u001b[49m\u001b[43m \u001b[49m\u001b[43mkwargs\u001b[49m\u001b[43m)\u001b[49m\n",
      "File \u001b[1;32m~\\miniconda3\\envs\\numerical_pde\\lib\\site-packages\\matplotlib\\axes\\_base.py:498\u001b[0m, in \u001b[0;36m_process_plot_var_args._plot_args\u001b[1;34m(self, tup, kwargs, return_kwargs)\u001b[0m\n\u001b[0;32m    495\u001b[0m     \u001b[38;5;28mself\u001b[39m\u001b[38;5;241m.\u001b[39maxes\u001b[38;5;241m.\u001b[39myaxis\u001b[38;5;241m.\u001b[39mupdate_units(y)\n\u001b[0;32m    497\u001b[0m \u001b[38;5;28;01mif\u001b[39;00m x\u001b[38;5;241m.\u001b[39mshape[\u001b[38;5;241m0\u001b[39m] \u001b[38;5;241m!=\u001b[39m y\u001b[38;5;241m.\u001b[39mshape[\u001b[38;5;241m0\u001b[39m]:\n\u001b[1;32m--> 498\u001b[0m     \u001b[38;5;28;01mraise\u001b[39;00m \u001b[38;5;167;01mValueError\u001b[39;00m(\u001b[38;5;124mf\u001b[39m\u001b[38;5;124m\"\u001b[39m\u001b[38;5;124mx and y must have same first dimension, but \u001b[39m\u001b[38;5;124m\"\u001b[39m\n\u001b[0;32m    499\u001b[0m                      \u001b[38;5;124mf\u001b[39m\u001b[38;5;124m\"\u001b[39m\u001b[38;5;124mhave shapes \u001b[39m\u001b[38;5;132;01m{\u001b[39;00mx\u001b[38;5;241m.\u001b[39mshape\u001b[38;5;132;01m}\u001b[39;00m\u001b[38;5;124m and \u001b[39m\u001b[38;5;132;01m{\u001b[39;00my\u001b[38;5;241m.\u001b[39mshape\u001b[38;5;132;01m}\u001b[39;00m\u001b[38;5;124m\"\u001b[39m)\n\u001b[0;32m    500\u001b[0m \u001b[38;5;28;01mif\u001b[39;00m x\u001b[38;5;241m.\u001b[39mndim \u001b[38;5;241m>\u001b[39m \u001b[38;5;241m2\u001b[39m \u001b[38;5;129;01mor\u001b[39;00m y\u001b[38;5;241m.\u001b[39mndim \u001b[38;5;241m>\u001b[39m \u001b[38;5;241m2\u001b[39m:\n\u001b[0;32m    501\u001b[0m     \u001b[38;5;28;01mraise\u001b[39;00m \u001b[38;5;167;01mValueError\u001b[39;00m(\u001b[38;5;124mf\u001b[39m\u001b[38;5;124m\"\u001b[39m\u001b[38;5;124mx and y can be no greater than 2D, but have \u001b[39m\u001b[38;5;124m\"\u001b[39m\n\u001b[0;32m    502\u001b[0m                      \u001b[38;5;124mf\u001b[39m\u001b[38;5;124m\"\u001b[39m\u001b[38;5;124mshapes \u001b[39m\u001b[38;5;132;01m{\u001b[39;00mx\u001b[38;5;241m.\u001b[39mshape\u001b[38;5;132;01m}\u001b[39;00m\u001b[38;5;124m and \u001b[39m\u001b[38;5;132;01m{\u001b[39;00my\u001b[38;5;241m.\u001b[39mshape\u001b[38;5;132;01m}\u001b[39;00m\u001b[38;5;124m\"\u001b[39m)\n",
      "\u001b[1;31mValueError\u001b[0m: x and y must have same first dimension, but have shapes (201,) and (1,)"
     ]
    },
    {
     "data": {
      "image/png": "[encoded data removed]",
      "text/plain": [
       "<Figure size 640x480 with 1 Axes>"
      ]
     },
     "metadata": {},
     "output_type": "display_data"
    }
   ],
   "source": [
    "X, U = system_1.get_solution()\n",
    "energies = system_1.get_energy()\n",
    "\n",
    "fig1, ax1 = plt.subplots()\n",
    "ax1.plot(energies)\n",
    "ax1.grid()\n",
    "plt.show(fig1)\n",
    "\n",
    "fig2, ax2 = plt.subplots()\n",
    "X = X[0]\n",
    "ax2.plot(X, U[-1] ** 2, 'rx')\n",
    "ax2.plot(X, np.exp(-1.0 * X * X) / np.sqrt(np.pi))\n",
    "ax2.grid()\n",
    "plt.show(fig2)\n",
    "\n",
    "print(energies[-1])"
   ]
  },
  {
   "cell_type": "code",
   "execution_count": null,
   "metadata": {},
   "outputs": [],
   "source": [
    "t0, t1, dt = 0.0, 1.0, 1.0e-05\n",
    "x0, x1, dx = 0.0, 1.0, 0.01\n",
    "y0, y1, dy = 0.0, 1.0, 0.01\n",
    "\n",
    "dom_t = Boundary(t0, t1, dt)\n",
    "dom_x = Boundary(x0, x1, dx)\n",
    "dom_y = Boundary(y0, y1, dy)\n",
    "\n",
    "def pot(x, y):\n",
    "    return 0.0 \n",
    "    # return 0.5*(x*x + y*y)\n",
    "\n",
    "\n",
    "def init(x, y):\n",
    "    return -1.0 *  ((x - 0.5) ** 2 + (y - 0.5) ** 2) + 0.5\n",
    "    # return (np.random.randn(*x.shape) -0.5 ) * 150\n",
    "\n",
    "system_1 = DirichletSystem(pot=pot, time_dom=dom_t, spatial_doms=[dom_x, dom_y])\n",
    "system_1.set_psi0_by_func(init)\n",
    "system_1.solve()"
   ]
  },
  {
   "cell_type": "code",
   "execution_count": null,
   "metadata": {},
   "outputs": [],
   "source": [
    "X, U = system_1.get_solution()\n",
    "energies = system_1.get_energy()\n",
    "\n",
    "fig1, ax1 = plt.subplots()\n",
    "ax1.plot(energies)\n",
    "ax1.grid()\n",
    "plt.show(fig1)\n",
    "\n",
    "zs = U[-1]\n",
    "fig2, ax2 = plt.subplots()\n",
    "xs, ys = np.meshgrid(*X, indexing='ij')\n",
    "ax2.contourf(xs, ys, zs)\n",
    "# ax2.plot(X[0], U[-1][:, 50])\n",
    "ax2.grid()\n",
    "ax2.set_aspect('equal')\n",
    "# fig2.colorbar(ax2.contourf)\n",
    "plt.show(fig2)\n",
    "\n",
    "print(energies[-1])"
   ]
  },
  {
   "cell_type": "code",
   "execution_count": null,
   "metadata": {},
   "outputs": [],
   "source": [
    "energies"
   ]
  },
  {
   "cell_type": "code",
   "execution_count": null,
   "metadata": {},
   "outputs": [],
   "source": [
    "np.pi ** 2"
   ]
  },
  {
   "cell_type": "code",
   "execution_count": null,
   "metadata": {},
   "outputs": [],
   "source": [
    "t0, t1, dt = 0.0, 1.0, 1.0e-04\n",
    "x0, x1, dx = 0.0, 10.0, 0.1\n",
    "y0, y1, dy = 0.0, 10.0, 0.1\n",
    "z0, z1, dz = 0.0, 10.0, 0.1\n",
    "\n",
    "dom_t = Boundary(t0, t1, dt)\n",
    "dom_x = Boundary(x0, x1, dx)\n",
    "dom_y = Boundary(y0, y1, dy)\n",
    "dom_z = Boundary(z0, z1, dz)\n",
    "\n",
    "def pot(x, y, z):\n",
    "    return 0.0 \n",
    "    # return 0.5*(x*x + y*y)\n",
    "\n",
    "\n",
    "def init(x, y, z):\n",
    "    # return -1.0 *  ((x - 0.5) ** 2 + (y - 0.5) ** 2) + 0.5\n",
    "    return (np.random.randn(*x.shape) -0.5 ) * 150\n",
    "\n",
    "system_1 = DirichletSystem(pot=pot, time_dom=dom_t, spatial_doms=[dom_x, dom_y, dom_z])\n",
    "system_1.set_psi0_by_func(init)\n",
    "system_1.solve()"
   ]
  },
  {
   "cell_type": "code",
   "execution_count": null,
   "metadata": {},
   "outputs": [],
   "source": [
    "X, U = system_1.get_solution()\n",
    "energies = system_1.get_energy()\n",
    "\n",
    "fig1, ax1 = plt.subplots()\n",
    "ax1.plot(energies)\n",
    "ax1.grid()\n",
    "plt.show(fig1)\n",
    "\n",
    "# zs = U[-1]\n",
    "# fig2, ax2 = plt.subplots()\n",
    "# xs, ys = np.meshgrid(*X, indexing='ij')\n",
    "# ax2.contourf(xs, ys, zs)\n",
    "# ax2.plot(X[0], U[-1][:, 50])\n",
    "# ax2.grid()\n",
    "# ax2.set_aspect('equal')\n",
    "# fig2.colorbar(ax2.contourf)\n",
    "# plt.show(fig2)\n",
    "\n",
    "print(energies[-1])"
   ]
  },
  {
   "cell_type": "code",
   "execution_count": null,
   "metadata": {},
   "outputs": [],
   "source": [
    "(3* np.pi**2) / (2 * 100)"
   ]
  },
  {
   "cell_type": "raw",
   "metadata": {},
   "source": []
  },
  {
   "cell_type": "code",
   "execution_count": null,
   "metadata": {},
   "outputs": [],
   "source": []
  },
  {
   "cell_type": "code",
   "execution_count": null,
   "metadata": {},
   "outputs": [],
   "source": []
  },
  {
   "cell_type": "code",
   "execution_count": null,
   "metadata": {},
   "outputs": [],
   "source": []
  },
  {
   "cell_type": "code",
   "execution_count": null,
   "metadata": {},
   "outputs": [],
   "source": []
  },
  {
   "cell_type": "code",
   "execution_count": null,
   "metadata": {},
   "outputs": [],
   "source": []
  },
  {
   "cell_type": "code",
   "execution_count": null,
   "metadata": {},
   "outputs": [],
   "source": []
  },
  {
   "cell_type": "code",
   "execution_count": null,
   "metadata": {},
   "outputs": [],
   "source": []
  }
 ],
 "metadata": {
  "kernelspec": {
   "display_name": "Python 3 (ipykernel)",
   "language": "python",
   "name": "python3"
  },
  "language_info": {
   "codemirror_mode": {
    "name": "ipython",
    "version": 3
   },
   "file_extension": ".py",
   "mimetype": "text/x-python",
   "name": "python",
   "nbconvert_exporter": "python",
   "pygments_lexer": "ipython3",
   "version": "3.10.4"
  },
  "vscode": {
   "interpreter": {
    "hash": "b2e5b7e03fe9e17d42ebd53b66a8d1e66060a9807a6f22e634857e347041ccb3"
   }
  }
 },
 "nbformat": 4,
 "nbformat_minor": 2
}
