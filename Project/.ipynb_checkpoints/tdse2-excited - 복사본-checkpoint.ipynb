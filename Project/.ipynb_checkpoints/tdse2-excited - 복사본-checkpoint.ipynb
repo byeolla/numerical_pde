{
 "cells": [
  {
   "cell_type": "markdown",
   "metadata": {},
   "source": [
    "# Solving the Schroedinger Equations Using the Finite Difference Itme Domain Method"
   ]
  },
  {
   "cell_type": "markdown",
   "metadata": {},
   "source": [
    "10.1088/1751-8113/40/8/013"
   ]
  },
  {
   "cell_type": "code",
   "execution_count": 1,
   "metadata": {},
   "outputs": [],
   "source": [
    "import dataclasses\n",
    "import itertools\n",
    "import math\n",
    "\n",
    "import numpy as np\n",
    "from scipy.sparse import diags\n",
    "\n",
    "from IPython import display\n",
    "import matplotlib as mpl\n",
    "from matplotlib import pyplot as plt\n",
    "from matplotlib.animation import FuncAnimation\n",
    "\n",
    "from tqdm import tqdm"
   ]
  },
  {
   "cell_type": "code",
   "execution_count": 2,
   "metadata": {},
   "outputs": [],
   "source": [
    "@dataclasses.dataclass(frozen=True)\n",
    "class Boundary:\n",
    "    start: float\n",
    "    end: float\n",
    "    step: float"
   ]
  },
  {
   "cell_type": "raw",
   "metadata": {},
   "source": [
    "def cartesian(arrays):\n",
    "    shape = [a.size for a in arrays]\n",
    "    shape.append(-1)\n",
    "    def inner(arrays, out=None):\n",
    "        arrays = [np.asarray(a) for a in arrays]\n",
    "        dtype = arrays[0].dtype\n",
    "\n",
    "        asx = [a.size for a in arrays]\n",
    "        n = np.prod(asx)\n",
    "\n",
    "        if out is None:\n",
    "            out = np.zeros([n, len(arrays)], dtype=dtype)\n",
    "\n",
    "        m = n // arrays[0].size\n",
    "        out[:, 0] = np.repeat(arrays[0], m)\n",
    "        if arrays[1:]:\n",
    "            inner(arrays[1:], out[0:m, 1:])\n",
    "            for j in range(1, arrays[0].size):\n",
    "                out[j*m:(j+1)*m, 1:] = out[0:m, 1:]\n",
    "        return out\n",
    "    out = inner(arrays, out=None)\n",
    "    out =  out.reshape(shape)\n",
    "    return out"
   ]
  },
  {
   "cell_type": "code",
   "execution_count": 41,
   "metadata": {},
   "outputs": [],
   "source": [
    "class DirichletSystem:\n",
    "    def __init__(self, pot, time_dom, spatial_doms, bd_cond=None, max_iter=None, stop_tol=1.0e-5, prior_vecs=None, **kwargs) -> None:\n",
    "        self.pbc = False\n",
    "        if prior_vecs is None:\n",
    "            self.priors = []\n",
    "        else:\n",
    "            self.priors = list(prior_vecs)\n",
    "        self.pot = pot\n",
    "        # 0: time, 1: X, 2: Y, 3: Z\n",
    "        self.time_dom = time_dom\n",
    "        self.spat_dom = list(spatial_doms)\n",
    "        self.vol = np.prod([dom.step for dom in self.spat_dom])\n",
    "        self.time_len = int((time_dom.end - time_dom.start) / time_dom.step) + 1\n",
    "        self._init_mesh()\n",
    "        # self._initialize()\n",
    "        self.bd_cond = bd_cond\n",
    "        self.counter = 0\n",
    "        self.stop_tol = stop_tol\n",
    "        self.max_iter = max_iter\n",
    "        self.logs = []\n",
    "    \n",
    "    def _init_mesh(self):\n",
    "        self.spaces = [np.linspace(dom.start, dom.end, int((dom.end - dom.start) / dom.step) + 1) for dom in self.spat_dom]\n",
    "        space_meshs = [x for x in np.meshgrid(*self.spaces, indexing='ij')]\n",
    "        print(space_meshs[0].shape)\n",
    "        self.sol_mesh = np.zeros([self.time_len, *space_meshs[0].shape])\n",
    "        self.sol_shape = tuple(space_meshs[0].shape)\n",
    "        self.space_meshs = np.asarray([x.flatten() for x in space_meshs])\n",
    "        self.ndim = len(self.sol_shape)\n",
    "\n",
    "    def normalize(self, psi):\n",
    "        nn = np.sqrt(np.sum(psi * psi) * self.vol)\n",
    "        nn = 1.0 / nn\n",
    "        out = psi * nn\n",
    "        return out\n",
    "\n",
    "    def _initialize(self, psi0_grid):\n",
    "#         self.sol_mesh[0] = self.normalize(psi0_grid)\n",
    "        self.sol_mesh[0] = psi0_grid\n",
    "        self._apply_boundary(0)\n",
    "\n",
    "        pot_grid = np.zeros(np.prod(self.sol_shape))\n",
    "        for i, xi in enumerate(zip(*self.space_meshs)):\n",
    "            pot_grid[i] = self.pot(*xi)\n",
    "        self.pot_grid = pot_grid.reshape(self.sol_shape)\n",
    "\n",
    "#     def set_psi0_by_func(self, func):\n",
    "#         psi0_grid = np.zeros(np.prod(self.sol_shape))\n",
    "#         for i, xi in enumerate(zip(*self.space_meshs)):\n",
    "#             psi0_grid[i] = func(*xi)\n",
    "#         psi0_grid = psi0_grid.reshape(self.sol_shape)\n",
    "#         self._initialize(psi0_grid)\n",
    "\n",
    "#내가 짠거\n",
    "#     def set_psi0_by_func(self, meshies):\n",
    "#         psi0_grid = np.zeros(np.prod(self.sol_shape))\n",
    "#         for i, xi in enumerate(zip(*self.space_meshs)):\n",
    "#             psi0_grid[i] = meshies(*xi)\n",
    "#         psi0_grid = psi0_grid.reshape(self.sol_shape)\n",
    "#         self._initialize(psi0_grid)\n",
    "\n",
    "###### 그냥 초기에 주어지는 함수로 계속해서 초기화하는게 맞는듯 #############\n",
    "\n",
    "\n",
    "    def set_psi0_by_grid(self, psi0_grid):\n",
    "        self._initialize(psi0_grid)\n",
    "\n",
    "    def _apply_boundary(self, n):\n",
    "        if (self.bd_cond is None) and (self.pbc == False):\n",
    "            sx = slice(None, None, None)\n",
    "            for i, l in enumerate(self.sol_shape):\n",
    "                ind = tuple([0 if i == j else sx for j in range(self.ndim)])\n",
    "                self.sol_mesh[n][ind] = 0.0\n",
    "                ind = tuple([l - 1 if i == j else sx for j in range(self.ndim)])\n",
    "                self.sol_mesh[n][ind] = 0.0\n",
    "                \n",
    "    def _prepare(self, *args, **kwargs):\n",
    "        psi = self.sol_mesh[0]\n",
    "        for vec in self.priors:\n",
    "            inner = np.sum(psi * self.normalize(vec) * self.vol)\n",
    "            self.sol_mesh[0] -= inner * vec\n",
    "\n",
    "    def solve(self):\n",
    "        dt = self.time_dom.step\n",
    "        self.energy_series = np.zeros(self.time_len)\n",
    "        sx = slice(None, None, None)\n",
    "\n",
    "        beta = 1/(1.0 + 0.5 * dt * self.pot_grid)\n",
    "        alpha = (1.0 - 0.5 * dt * self.pot_grid) * beta\n",
    "        self._prepare()\n",
    "        \n",
    "        if self.max_iter is not None and self.max_iter < self.time_len:\n",
    "            t_len = self.max_iter\n",
    "        else:\n",
    "            t_len = self.time_len\n",
    "    \n",
    "        for n in tqdm(range(0, t_len)):\n",
    "            self.counter = n\n",
    "            kine = np.zeros(self.sol_shape)\n",
    "            px = self.sol_mesh[n]\n",
    "\n",
    "            self._prepare()\n",
    "            \n",
    "            for i in range(self.ndim):\n",
    "                if self.pbc:\n",
    "                    ind0 = tuple([0 if i == j else sx for j in range(self.ndim)])\n",
    "                    ind1 = tuple([1 if i == j else sx for j in range(self.ndim)])\n",
    "                    ind2 = tuple([-1 if i == j else sx for j in range(self.ndim)])\n",
    "                    ind3 = tuple([-2 if i == j else sx for j in range(self.ndim)])\n",
    "                    \n",
    "                    px[ind2] = px[ind0] + (1/3) * px[ind3] - (1/3) * px[ind1]\n",
    "                \n",
    "                ind1 = tuple([slice(1, -1, None) if i == j else sx for j in range(self.ndim)])\n",
    "                ind2 = tuple([slice(0, -2, None) if i == j else sx for j in range(self.ndim)])\n",
    "                ind3 = tuple([slice(2, None, None) if i == j else sx for j in range(self.ndim)])\n",
    "\n",
    "                term = px[ind2] + px[ind3] - 2.0 * px[ind1]\n",
    "\n",
    "                if self.pbc:\n",
    "                    ind0 = tuple([0 if i == j else sx for j in range(self.ndim)])\n",
    "                    ind1 = tuple([1 if i == j else sx for j in range(self.ndim)])\n",
    "                    ind2 = tuple([-1 if i == j else sx for j in range(self.ndim)])\n",
    "                    ind3 = tuple([-2 if i == j else sx for j in range(self.ndim)])\n",
    "                    \n",
    "                    term += px[ind3]\n",
    "                    term += px[ind1]\n",
    "                    term -= px[ind0]\n",
    "                    term -= px[ind2]\n",
    "                \n",
    "                ind1 = tuple([slice(1, -1, None) if i == j else sx for j in range(self.ndim)])\n",
    "                term /= (2.0 * self.spat_dom[i].step ** 2)\n",
    "                kine[ind1] += term\n",
    "\n",
    "            energy_before = np.sum(self.pot_grid * px * px) - (kine * px).sum()\n",
    "            energy_before /= (px * px).sum()\n",
    "\n",
    "            self.energy_series[n] = energy_before # * self.vol ** 2\n",
    "            \n",
    "            if n + 1 < self.time_len:\n",
    "                self.sol_mesh[n + 1] = alpha * self.sol_mesh[n]\n",
    "                self.sol_mesh[n + 1] += dt * beta * kine\n",
    "                # self._apply_boundary(n + 1)\n",
    "                \n",
    "                psi = self.sol_mesh[n + 1]\n",
    "                nn2 = np.sum(psi * psi) * self.vol\n",
    "                self.logs.append(np.sqrt(nn2))\n",
    "                \n",
    "                self.sol_mesh[n + 1] = self.normalize(self.sol_mesh[n + 1])\n",
    "\n",
    "#             if n > 0 and self.stop_tol is not None:\n",
    "#                 error = np.abs(1 - self.energy_series[n - 1] / energy_before)\n",
    "#                 if error < self.stop_tol:\n",
    "#                     break\n",
    "\n",
    "    def get_solution(self):\n",
    "        return self.spaces, self.sol_mesh[self.counter]\n",
    "    \n",
    "    def get_full_mesh(self):\n",
    "        return self.spaces, self.sol_mesh\n",
    "\n",
    "    def get_energy(self):\n",
    "        return self.energy_series"
   ]
  },
  {
   "cell_type": "code",
   "execution_count": 42,
   "metadata": {},
   "outputs": [],
   "source": [
    "def draw_energies(ex):\n",
    "    fig1, ax1 = plt.subplots()\n",
    "    y1 = np.ones_like(ex[0]) * np.pi**2/2*1\n",
    "    y2 = np.ones_like(ex[0]) * np.pi**2/2*4\n",
    "    y3 = np.ones_like(ex[0]) * np.pi**2/2*9\n",
    "    ax1.plot(y1)\n",
    "    ax1.plot(y2)\n",
    "    ax1.plot(y3)\n",
    "    for ee in ex:\n",
    "        ax1.plot(ee)\n",
    "    ax1.grid()\n",
    "    ax1.set_ylim(0, 60.0)\n",
    "    plt.show(fig1)"
   ]
  },
  {
   "cell_type": "code",
   "execution_count": 43,
   "metadata": {},
   "outputs": [
    {
     "name": "stdout",
     "output_type": "stream",
     "text": [
      "(101,)\n"
     ]
    },
    {
     "ename": "ValueError",
     "evalue": "setting an array element with a sequence.",
     "output_type": "error",
     "traceback": [
      "\u001b[1;31m---------------------------------------------------------------------------\u001b[0m",
      "\u001b[1;31mTypeError\u001b[0m                                 Traceback (most recent call last)",
      "\u001b[1;31mTypeError\u001b[0m: only size-1 arrays can be converted to Python scalars",
      "\nThe above exception was the direct cause of the following exception:\n",
      "\u001b[1;31mValueError\u001b[0m                                Traceback (most recent call last)",
      "Input \u001b[1;32mIn [43]\u001b[0m, in \u001b[0;36m<cell line: 24>\u001b[1;34m()\u001b[0m\n\u001b[0;32m     21\u001b[0m     \u001b[38;5;28;01mreturn\u001b[39;00m x\u001b[38;5;241m-\u001b[39m\u001b[38;5;241m3\u001b[39m\n\u001b[0;32m     23\u001b[0m sys1 \u001b[38;5;241m=\u001b[39m DirichletSystem(pot\u001b[38;5;241m=\u001b[39mpot, time_dom\u001b[38;5;241m=\u001b[39mdom_t, spatial_doms\u001b[38;5;241m=\u001b[39m[dom_x], stop_tol\u001b[38;5;241m=\u001b[39m\u001b[38;5;241m1.0e-6\u001b[39m, max_iter\u001b[38;5;241m=\u001b[39m\u001b[38;5;28;01mNone\u001b[39;00m)\n\u001b[1;32m---> 24\u001b[0m \u001b[43msys1\u001b[49m\u001b[38;5;241;43m.\u001b[39;49m\u001b[43mset_psi0_by_func\u001b[49m\u001b[43m(\u001b[49m\u001b[43minit1\u001b[49m\u001b[43m)\u001b[49m\n\u001b[0;32m     25\u001b[0m sys1\u001b[38;5;241m.\u001b[39msolve()\n\u001b[0;32m     27\u001b[0m draw_energies([sys1\u001b[38;5;241m.\u001b[39mget_energy()])\n",
      "Input \u001b[1;32mIn [41]\u001b[0m, in \u001b[0;36mDirichletSystem.set_psi0_by_func\u001b[1;34m(self, initial, *vec)\u001b[0m\n\u001b[0;32m     63\u001b[0m psi0_grid \u001b[38;5;241m=\u001b[39m np\u001b[38;5;241m.\u001b[39mzeros(np\u001b[38;5;241m.\u001b[39mprod(\u001b[38;5;28mself\u001b[39m\u001b[38;5;241m.\u001b[39msol_shape))\n\u001b[0;32m     64\u001b[0m \u001b[38;5;28;01mfor\u001b[39;00m i,_ \u001b[38;5;129;01min\u001b[39;00m \u001b[38;5;28menumerate\u001b[39m(\u001b[38;5;28mzip\u001b[39m(\u001b[38;5;241m*\u001b[39m\u001b[38;5;28mself\u001b[39m\u001b[38;5;241m.\u001b[39mspace_meshs)):\n\u001b[1;32m---> 65\u001b[0m     psi0_grid[i] \u001b[38;5;241m=\u001b[39m \u001b[38;5;241m-\u001b[39m np\u001b[38;5;241m.\u001b[39marray([vecs \u001b[38;5;28;01mfor\u001b[39;00m vecs \u001b[38;5;129;01min\u001b[39;00m vec])\n\u001b[0;32m     66\u001b[0m psi0_grid \u001b[38;5;241m=\u001b[39m psi0_grid\u001b[38;5;241m.\u001b[39mreshape(\u001b[38;5;28mself\u001b[39m\u001b[38;5;241m.\u001b[39msol_shape)\n\u001b[0;32m     67\u001b[0m sef\u001b[38;5;241m.\u001b[39m_initialize(psi0_grid)\n",
      "\u001b[1;31mValueError\u001b[0m: setting an array element with a sequence."
     ]
    }
   ],
   "source": [
    "x0, x1, dx = 0.0, 1.0, 0.01\n",
    "t0, t1, dt = 0.0, 1.0, dx*dx*0.2\n",
    "\n",
    "dom_t = Boundary(t0, t1, dt)\n",
    "dom_x = Boundary(x0, x1, dx)\n",
    "\n",
    "def pot(mesh):\n",
    "    return np.zeros_like(mesh)\n",
    "#     return mesh*mesh*100\n",
    "\n",
    "def init1(x):\n",
    "#     return np.random.randn(1)\n",
    "    return np.ones_like(x) * 10\n",
    "def init2(x):\n",
    "    return np.random.rand() * 2 - 1\n",
    "\n",
    "def init3(x):\n",
    "    return x-1\n",
    "\n",
    "def init4(x):\n",
    "    return x-3\n",
    "\n",
    "initial = np.ones_like(np.s)\n",
    "sys1 = DirichletSystem(pot=pot, time_dom=dom_t, spatial_doms=[dom_x], stop_tol=1.0e-6, max_iter=None)\n",
    "sys1.set_psi0_by_func(init1)\n",
    "sys1.solve()\n",
    "\n",
    "draw_energies([sys1.get_energy()])\n",
    "\n",
    "x, u = sys1.get_solution()\n",
    "plt.plot(x[-1], u)\n",
    "v1 = u.copy()"
   ]
  },
  {
   "cell_type": "code",
   "execution_count": 44,
   "metadata": {},
   "outputs": [
    {
     "name": "stdout",
     "output_type": "stream",
     "text": [
      "(101,)\n"
     ]
    },
    {
     "ename": "ValueError",
     "evalue": "setting an array element with a sequence.",
     "output_type": "error",
     "traceback": [
      "\u001b[1;31m---------------------------------------------------------------------------\u001b[0m",
      "\u001b[1;31mTypeError\u001b[0m                                 Traceback (most recent call last)",
      "\u001b[1;31mTypeError\u001b[0m: only size-1 arrays can be converted to Python scalars",
      "\nThe above exception was the direct cause of the following exception:\n",
      "\u001b[1;31mValueError\u001b[0m                                Traceback (most recent call last)",
      "Input \u001b[1;32mIn [44]\u001b[0m, in \u001b[0;36m<cell line: 2>\u001b[1;34m()\u001b[0m\n\u001b[0;32m      1\u001b[0m sys2 \u001b[38;5;241m=\u001b[39m DirichletSystem(pot\u001b[38;5;241m=\u001b[39mpot, time_dom\u001b[38;5;241m=\u001b[39mdom_t, spatial_doms\u001b[38;5;241m=\u001b[39m[dom_x], prior_vecs\u001b[38;5;241m=\u001b[39m[v1], stop_tol\u001b[38;5;241m=\u001b[39m\u001b[38;5;241m1.0e-6\u001b[39m, max_iter\u001b[38;5;241m=\u001b[39m\u001b[38;5;28;01mNone\u001b[39;00m)\n\u001b[1;32m----> 2\u001b[0m \u001b[43msys2\u001b[49m\u001b[38;5;241;43m.\u001b[39;49m\u001b[43mset_psi0_by_func\u001b[49m\u001b[43m(\u001b[49m\u001b[43minit3\u001b[49m\u001b[43m)\u001b[49m\n\u001b[0;32m      3\u001b[0m sys2\u001b[38;5;241m.\u001b[39msolve()\n",
      "Input \u001b[1;32mIn [41]\u001b[0m, in \u001b[0;36mDirichletSystem.set_psi0_by_func\u001b[1;34m(self, initial, *vec)\u001b[0m\n\u001b[0;32m     63\u001b[0m psi0_grid \u001b[38;5;241m=\u001b[39m np\u001b[38;5;241m.\u001b[39mzeros(np\u001b[38;5;241m.\u001b[39mprod(\u001b[38;5;28mself\u001b[39m\u001b[38;5;241m.\u001b[39msol_shape))\n\u001b[0;32m     64\u001b[0m \u001b[38;5;28;01mfor\u001b[39;00m i,_ \u001b[38;5;129;01min\u001b[39;00m \u001b[38;5;28menumerate\u001b[39m(\u001b[38;5;28mzip\u001b[39m(\u001b[38;5;241m*\u001b[39m\u001b[38;5;28mself\u001b[39m\u001b[38;5;241m.\u001b[39mspace_meshs)):\n\u001b[1;32m---> 65\u001b[0m     psi0_grid[i] \u001b[38;5;241m=\u001b[39m \u001b[38;5;241m-\u001b[39m np\u001b[38;5;241m.\u001b[39marray([vecs \u001b[38;5;28;01mfor\u001b[39;00m vecs \u001b[38;5;129;01min\u001b[39;00m vec])\n\u001b[0;32m     66\u001b[0m psi0_grid \u001b[38;5;241m=\u001b[39m psi0_grid\u001b[38;5;241m.\u001b[39mreshape(\u001b[38;5;28mself\u001b[39m\u001b[38;5;241m.\u001b[39msol_shape)\n\u001b[0;32m     67\u001b[0m sef\u001b[38;5;241m.\u001b[39m_initialize(psi0_grid)\n",
      "\u001b[1;31mValueError\u001b[0m: setting an array element with a sequence."
     ]
    }
   ],
   "source": [
    "sys2 = DirichletSystem(pot=pot, time_dom=dom_t, spatial_doms=[dom_x], prior_vecs=[v1], stop_tol=1.0e-6, max_iter=None)\n",
    "sys2.set_psi0_by_func(init3)\n",
    "sys2.solve()"
   ]
  },
  {
   "cell_type": "code",
   "execution_count": 45,
   "metadata": {},
   "outputs": [
    {
     "ename": "AttributeError",
     "evalue": "'DirichletSystem' object has no attribute 'energy_series'",
     "output_type": "error",
     "traceback": [
      "\u001b[1;31m---------------------------------------------------------------------------\u001b[0m",
      "\u001b[1;31mAttributeError\u001b[0m                            Traceback (most recent call last)",
      "Input \u001b[1;32mIn [45]\u001b[0m, in \u001b[0;36m<cell line: 2>\u001b[1;34m()\u001b[0m\n\u001b[0;32m      1\u001b[0m X, U \u001b[38;5;241m=\u001b[39m sys2\u001b[38;5;241m.\u001b[39mget_full_mesh()\n\u001b[1;32m----> 2\u001b[0m energies \u001b[38;5;241m=\u001b[39m \u001b[43msys2\u001b[49m\u001b[38;5;241;43m.\u001b[39;49m\u001b[43mget_energy\u001b[49m\u001b[43m(\u001b[49m\u001b[43m)\u001b[49m\n\u001b[0;32m      3\u001b[0m x, u \u001b[38;5;241m=\u001b[39m sys2\u001b[38;5;241m.\u001b[39mget_solution()\n\u001b[0;32m      4\u001b[0m plt\u001b[38;5;241m.\u001b[39mplot(x[\u001b[38;5;241m-\u001b[39m\u001b[38;5;241m1\u001b[39m], u)\n",
      "Input \u001b[1;32mIn [41]\u001b[0m, in \u001b[0;36mDirichletSystem.get_energy\u001b[1;34m(self)\u001b[0m\n\u001b[0;32m    166\u001b[0m \u001b[38;5;28;01mdef\u001b[39;00m \u001b[38;5;21mget_energy\u001b[39m(\u001b[38;5;28mself\u001b[39m):\n\u001b[1;32m--> 167\u001b[0m     \u001b[38;5;28;01mreturn\u001b[39;00m \u001b[38;5;28;43mself\u001b[39;49m\u001b[38;5;241;43m.\u001b[39;49m\u001b[43menergy_series\u001b[49m\n",
      "\u001b[1;31mAttributeError\u001b[0m: 'DirichletSystem' object has no attribute 'energy_series'"
     ]
    }
   ],
   "source": [
    "X, U = sys2.get_full_mesh()\n",
    "energies = sys2.get_energy()\n",
    "x, u = sys2.get_solution()\n",
    "plt.plot(x[-1], u)\n",
    "v1 = u.copy()\n",
    "print(energies[energies>0])\n",
    "draw_energies([energies])\n",
    "\n",
    "x, u = sys2.get_solution()\n",
    "plt.plot(x[-1], u)\n",
    "v1 = u.copy()\n",
    "# fig2, ax2 = plt.subplots()\n",
    "# skip = 1\n",
    "# # ax2.plot(X[0][::skip], U[sys2.counter][::skip] ** 2, 'rx', label='$\\psi_2$')\n",
    "# ax2.plot(X[0][::skip], U[-1][::skip] ** 2, 'rx', label='$\\psi_2$')\n",
    "# ax2.plot(X[0][::skip], v1[::skip] ** 2, 'bx', label='$\\psi_1$')\n",
    "# # ax2.plot(X[0][::skip], U[1, ::skip] ** 2, 'gx')\n",
    "# # ax2.plot(X[0], 2.0 * np.sin(X[0] * np.pi) **2, 'g-', lw=2, label='$\\phi$')\n",
    "# ax2.legend()\n",
    "# ax2.grid()\n",
    "# plt.show(fig2)\n",
    "v1 = u.copy()"
   ]
  },
  {
   "cell_type": "code",
   "execution_count": 39,
   "metadata": {},
   "outputs": [
    {
     "name": "stdout",
     "output_type": "stream",
     "text": [
      "(101,)\n"
     ]
    },
    {
     "name": "stderr",
     "output_type": "stream",
     "text": [
      "100%|█████████████████████████████████████████████████████████████████████████| 50000/50000 [00:04<00:00, 11163.33it/s]\n"
     ]
    }
   ],
   "source": [
    "sys3 = DirichletSystem(pot=pot, time_dom=dom_t, spatial_doms=[dom_x], prior_vecs=[v1], stop_tol=1.0e-6, max_iter=None)\n",
    "sys3.set_psi0_by_func(init4)\n",
    "sys3.solve()"
   ]
  },
  {
   "cell_type": "code",
   "execution_count": 40,
   "metadata": {},
   "outputs": [
    {
     "name": "stdout",
     "output_type": "stream",
     "text": [
      "[104.29879449  85.82184367  73.6168851  ...   4.93439634   4.93439634\n",
      "   4.93439634]\n"
     ]
    },
    {
     "data": {
      "image/png": "[encoded data removed]",
      "text/plain": [
       "<Figure size 640x480 with 1 Axes>"
      ]
     },
     "metadata": {},
     "output_type": "display_data"
    },
    {
     "data": {
      "image/png": "[encoded data removed]",
      "text/plain": [
       "<Figure size 640x480 with 1 Axes>"
      ]
     },
     "metadata": {},
     "output_type": "display_data"
    }
   ],
   "source": [
    "X, U = sys3.get_full_mesh()\n",
    "energies = sys3.get_energy()\n",
    "print(energies[energies>0])\n",
    "draw_energies([energies])\n",
    "\n",
    "x, u = sys3.get_solution()\n",
    "plt.plot(x[-1], u)\n",
    "v1 = u.copy()\n",
    "# fig2, ax2 = plt.subplots()\n",
    "# skip = 1\n",
    "# # ax2.plot(X[0][::skip], U[sys2.counter][::skip] ** 2, 'rx', label='$\\psi_2$')\n",
    "# ax2.plot(X[0][::skip], U[-1][::skip] ** 2, 'rx', label='$\\psi_2$')\n",
    "# ax2.plot(X[0][::skip], v1[::skip] ** 2, 'bx', label='$\\psi_1$')\n",
    "# # ax2.plot(X[0][::skip], U[1, ::skip] ** 2, 'gx')\n",
    "# # ax2.plot(X[0], 2.0 * np.sin(X[0] * np.pi) **2, 'g-', lw=2, label='$\\phi$')\n",
    "# ax2.legend()\n",
    "# ax2.grid()\n",
    "# plt.show(fig2)"
   ]
  },
  {
   "cell_type": "code",
   "execution_count": 14,
   "metadata": {},
   "outputs": [
    {
     "name": "stdout",
     "output_type": "stream",
     "text": [
      "(201,)\n"
     ]
    },
    {
     "name": "stderr",
     "output_type": "stream",
     "text": [
      "100%|███████████████████████████████████████████████████████████████████████| 100000/100000 [00:07<00:00, 14099.85it/s]\n"
     ]
    }
   ],
   "source": [
    "t0, t1, dt = 0.0, 1.0, 1.0e-05\n",
    "x0, x1, dx = -10.0, 10.0, 0.1\n",
    "\n",
    "dom_t = Boundary(t0, t1, dt)\n",
    "dom_x = Boundary(x0, x1, dx)\n",
    "\n",
    "def pot(mesh):\n",
    "    return 0.5 * np.sum(mesh * mesh)\n",
    "\n",
    "def init(x):\n",
    "    return 100.0 - x ** 2\n",
    "    # return np.random.randn(*x.shape)\n",
    "\n",
    "system_1 = DirichletSystem(pot=pot, time_dom=dom_t, spatial_doms=[dom_x])\n",
    "system_1.set_psi0_by_func(init)\n",
    "system_1.solve()"
   ]
  },
  {
   "cell_type": "code",
   "execution_count": 15,
   "metadata": {},
   "outputs": [
    {
     "data": {
      "image/png": "[encoded data removed]",
      "text/plain": [
       "<Figure size 640x480 with 1 Axes>"
      ]
     },
     "metadata": {},
     "output_type": "display_data"
    },
    {
     "name": "stdout",
     "output_type": "stream",
     "text": [
      "(201,)\n",
      "(201,)\n"
     ]
    },
    {
     "data": {
      "image/png": "[encoded data removed]",
      "text/plain": [
       "<Figure size 640x480 with 1 Axes>"
      ]
     },
     "metadata": {},
     "output_type": "display_data"
    },
    {
     "name": "stdout",
     "output_type": "stream",
     "text": [
      "0.5169140110041889\n"
     ]
    }
   ],
   "source": [
    "X, U = system_1.get_solution()\n",
    "energies = system_1.get_energy()\n",
    "\n",
    "fig1, ax1 = plt.subplots()\n",
    "ax1.plot(energies)\n",
    "ax1.grid()\n",
    "plt.show(fig1)\n",
    "print(X[0].shape)\n",
    "print(U.shape)\n",
    "fig2, ax2 = plt.subplots()\n",
    "X = X[0]\n",
    "ax2.plot(X, U ** 2, 'rx')\n",
    "ax2.plot(X, np.exp(-1.0 * X * X) / np.sqrt(np.pi))\n",
    "ax2.grid()\n",
    "plt.show(fig2)\n",
    "\n",
    "print(energies[-1])"
   ]
  },
  {
   "cell_type": "code",
   "execution_count": 16,
   "metadata": {},
   "outputs": [
    {
     "name": "stdout",
     "output_type": "stream",
     "text": [
      "(101, 101)\n"
     ]
    },
    {
     "name": "stderr",
     "output_type": "stream",
     "text": [
      "100%|████████████████████████████████████████████████████████████████████████| 100000/100000 [00:41<00:00, 2418.38it/s]\n"
     ]
    }
   ],
   "source": [
    "t0, t1, dt = 0.0, 1.0, 1.0e-05\n",
    "x0, x1, dx = 0.0, 1.0, 0.01\n",
    "y0, y1, dy = 0.0, 1.0, 0.01\n",
    "\n",
    "dom_t = Boundary(t0, t1, dt)\n",
    "dom_x = Boundary(x0, x1, dx)\n",
    "dom_y = Boundary(y0, y1, dy)\n",
    "\n",
    "def pot(x, y):\n",
    "    return 0.0 \n",
    "    # return 0.5*(x*x + y*y)\n",
    "\n",
    "\n",
    "def init(x, y):\n",
    "    return -1.0 *  ((x - 0.5) ** 2 + (y - 0.5) ** 2) + 0.5\n",
    "    # return (np.random.randn(*x.shape) -0.5 ) * 150\n",
    "\n",
    "system_1 = DirichletSystem(pot=pot, time_dom=dom_t, spatial_doms=[dom_x, dom_y])\n",
    "system_1.set_psi0_by_func(init)\n",
    "system_1.solve()"
   ]
  },
  {
   "cell_type": "code",
   "execution_count": 17,
   "metadata": {},
   "outputs": [
    {
     "data": {
      "image/png": "[encoded data removed]",
      "text/plain": [
       "<Figure size 640x480 with 1 Axes>"
      ]
     },
     "metadata": {},
     "output_type": "display_data"
    },
    {
     "ename": "TypeError",
     "evalue": "Input z must be 2D, not 1D",
     "output_type": "error",
     "traceback": [
      "\u001b[1;31m---------------------------------------------------------------------------\u001b[0m",
      "\u001b[1;31mTypeError\u001b[0m                                 Traceback (most recent call last)",
      "Input \u001b[1;32mIn [17]\u001b[0m, in \u001b[0;36m<cell line: 12>\u001b[1;34m()\u001b[0m\n\u001b[0;32m     10\u001b[0m fig2, ax2 \u001b[38;5;241m=\u001b[39m plt\u001b[38;5;241m.\u001b[39msubplots()\n\u001b[0;32m     11\u001b[0m xs, ys \u001b[38;5;241m=\u001b[39m np\u001b[38;5;241m.\u001b[39mmeshgrid(\u001b[38;5;241m*\u001b[39mX, indexing\u001b[38;5;241m=\u001b[39m\u001b[38;5;124m'\u001b[39m\u001b[38;5;124mij\u001b[39m\u001b[38;5;124m'\u001b[39m)\n\u001b[1;32m---> 12\u001b[0m \u001b[43max2\u001b[49m\u001b[38;5;241;43m.\u001b[39;49m\u001b[43mcontourf\u001b[49m\u001b[43m(\u001b[49m\u001b[43mxs\u001b[49m\u001b[43m,\u001b[49m\u001b[43m \u001b[49m\u001b[43mys\u001b[49m\u001b[43m,\u001b[49m\u001b[43m \u001b[49m\u001b[43mzs\u001b[49m\u001b[43m)\u001b[49m\n\u001b[0;32m     13\u001b[0m \u001b[38;5;66;03m# ax2.plot(X[0], U[-1][:, 50])\u001b[39;00m\n\u001b[0;32m     14\u001b[0m ax2\u001b[38;5;241m.\u001b[39mgrid()\n",
      "File \u001b[1;32m~\\miniconda3\\envs\\numerical_pde\\lib\\site-packages\\matplotlib\\__init__.py:1412\u001b[0m, in \u001b[0;36m_preprocess_data.<locals>.inner\u001b[1;34m(ax, data, *args, **kwargs)\u001b[0m\n\u001b[0;32m   1409\u001b[0m \u001b[38;5;129m@functools\u001b[39m\u001b[38;5;241m.\u001b[39mwraps(func)\n\u001b[0;32m   1410\u001b[0m \u001b[38;5;28;01mdef\u001b[39;00m \u001b[38;5;21minner\u001b[39m(ax, \u001b[38;5;241m*\u001b[39margs, data\u001b[38;5;241m=\u001b[39m\u001b[38;5;28;01mNone\u001b[39;00m, \u001b[38;5;241m*\u001b[39m\u001b[38;5;241m*\u001b[39mkwargs):\n\u001b[0;32m   1411\u001b[0m     \u001b[38;5;28;01mif\u001b[39;00m data \u001b[38;5;129;01mis\u001b[39;00m \u001b[38;5;28;01mNone\u001b[39;00m:\n\u001b[1;32m-> 1412\u001b[0m         \u001b[38;5;28;01mreturn\u001b[39;00m func(ax, \u001b[38;5;241m*\u001b[39m\u001b[38;5;28mmap\u001b[39m(sanitize_sequence, args), \u001b[38;5;241m*\u001b[39m\u001b[38;5;241m*\u001b[39mkwargs)\n\u001b[0;32m   1414\u001b[0m     bound \u001b[38;5;241m=\u001b[39m new_sig\u001b[38;5;241m.\u001b[39mbind(ax, \u001b[38;5;241m*\u001b[39margs, \u001b[38;5;241m*\u001b[39m\u001b[38;5;241m*\u001b[39mkwargs)\n\u001b[0;32m   1415\u001b[0m     auto_label \u001b[38;5;241m=\u001b[39m (bound\u001b[38;5;241m.\u001b[39marguments\u001b[38;5;241m.\u001b[39mget(label_namer)\n\u001b[0;32m   1416\u001b[0m                   \u001b[38;5;129;01mor\u001b[39;00m bound\u001b[38;5;241m.\u001b[39mkwargs\u001b[38;5;241m.\u001b[39mget(label_namer))\n",
      "File \u001b[1;32m~\\miniconda3\\envs\\numerical_pde\\lib\\site-packages\\matplotlib\\axes\\_axes.py:6313\u001b[0m, in \u001b[0;36mAxes.contourf\u001b[1;34m(self, *args, **kwargs)\u001b[0m\n\u001b[0;32m   6304\u001b[0m \u001b[38;5;124;03m\"\"\"\u001b[39;00m\n\u001b[0;32m   6305\u001b[0m \u001b[38;5;124;03mPlot filled contours.\u001b[39;00m\n\u001b[0;32m   6306\u001b[0m \n\u001b[1;32m   (...)\u001b[0m\n\u001b[0;32m   6310\u001b[0m \u001b[38;5;124;03m%(contour_doc)s\u001b[39;00m\n\u001b[0;32m   6311\u001b[0m \u001b[38;5;124;03m\"\"\"\u001b[39;00m\n\u001b[0;32m   6312\u001b[0m kwargs[\u001b[38;5;124m'\u001b[39m\u001b[38;5;124mfilled\u001b[39m\u001b[38;5;124m'\u001b[39m] \u001b[38;5;241m=\u001b[39m \u001b[38;5;28;01mTrue\u001b[39;00m\n\u001b[1;32m-> 6313\u001b[0m contours \u001b[38;5;241m=\u001b[39m mcontour\u001b[38;5;241m.\u001b[39mQuadContourSet(\u001b[38;5;28mself\u001b[39m, \u001b[38;5;241m*\u001b[39margs, \u001b[38;5;241m*\u001b[39m\u001b[38;5;241m*\u001b[39mkwargs)\n\u001b[0;32m   6314\u001b[0m \u001b[38;5;28mself\u001b[39m\u001b[38;5;241m.\u001b[39m_request_autoscale_view()\n\u001b[0;32m   6315\u001b[0m \u001b[38;5;28;01mreturn\u001b[39;00m contours\n",
      "File \u001b[1;32m~\\miniconda3\\envs\\numerical_pde\\lib\\site-packages\\matplotlib\\contour.py:812\u001b[0m, in \u001b[0;36mContourSet.__init__\u001b[1;34m(self, ax, levels, filled, linewidths, linestyles, hatches, alpha, origin, extent, cmap, colors, norm, vmin, vmax, extend, antialiased, nchunk, locator, transform, *args, **kwargs)\u001b[0m\n\u001b[0;32m    808\u001b[0m     \u001b[38;5;28mself\u001b[39m\u001b[38;5;241m.\u001b[39morigin \u001b[38;5;241m=\u001b[39m mpl\u001b[38;5;241m.\u001b[39mrcParams[\u001b[38;5;124m'\u001b[39m\u001b[38;5;124mimage.origin\u001b[39m\u001b[38;5;124m'\u001b[39m]\n\u001b[0;32m    810\u001b[0m \u001b[38;5;28mself\u001b[39m\u001b[38;5;241m.\u001b[39m_transform \u001b[38;5;241m=\u001b[39m transform\n\u001b[1;32m--> 812\u001b[0m kwargs \u001b[38;5;241m=\u001b[39m \u001b[38;5;28mself\u001b[39m\u001b[38;5;241m.\u001b[39m_process_args(\u001b[38;5;241m*\u001b[39margs, \u001b[38;5;241m*\u001b[39m\u001b[38;5;241m*\u001b[39mkwargs)\n\u001b[0;32m    813\u001b[0m \u001b[38;5;28mself\u001b[39m\u001b[38;5;241m.\u001b[39m_process_levels()\n\u001b[0;32m    815\u001b[0m \u001b[38;5;28mself\u001b[39m\u001b[38;5;241m.\u001b[39m_extend_min \u001b[38;5;241m=\u001b[39m \u001b[38;5;28mself\u001b[39m\u001b[38;5;241m.\u001b[39mextend \u001b[38;5;129;01min\u001b[39;00m [\u001b[38;5;124m'\u001b[39m\u001b[38;5;124mmin\u001b[39m\u001b[38;5;124m'\u001b[39m, \u001b[38;5;124m'\u001b[39m\u001b[38;5;124mboth\u001b[39m\u001b[38;5;124m'\u001b[39m]\n",
      "File \u001b[1;32m~\\miniconda3\\envs\\numerical_pde\\lib\\site-packages\\matplotlib\\contour.py:1446\u001b[0m, in \u001b[0;36mQuadContourSet._process_args\u001b[1;34m(self, corner_mask, *args, **kwargs)\u001b[0m\n\u001b[0;32m   1443\u001b[0m     corner_mask \u001b[38;5;241m=\u001b[39m mpl\u001b[38;5;241m.\u001b[39mrcParams[\u001b[38;5;124m'\u001b[39m\u001b[38;5;124mcontour.corner_mask\u001b[39m\u001b[38;5;124m'\u001b[39m]\n\u001b[0;32m   1444\u001b[0m \u001b[38;5;28mself\u001b[39m\u001b[38;5;241m.\u001b[39m_corner_mask \u001b[38;5;241m=\u001b[39m corner_mask\n\u001b[1;32m-> 1446\u001b[0m x, y, z \u001b[38;5;241m=\u001b[39m \u001b[38;5;28;43mself\u001b[39;49m\u001b[38;5;241;43m.\u001b[39;49m\u001b[43m_contour_args\u001b[49m\u001b[43m(\u001b[49m\u001b[43margs\u001b[49m\u001b[43m,\u001b[49m\u001b[43m \u001b[49m\u001b[43mkwargs\u001b[49m\u001b[43m)\u001b[49m\n\u001b[0;32m   1448\u001b[0m _mask \u001b[38;5;241m=\u001b[39m ma\u001b[38;5;241m.\u001b[39mgetmask(z)\n\u001b[0;32m   1449\u001b[0m \u001b[38;5;28;01mif\u001b[39;00m _mask \u001b[38;5;129;01mis\u001b[39;00m ma\u001b[38;5;241m.\u001b[39mnomask \u001b[38;5;129;01mor\u001b[39;00m \u001b[38;5;129;01mnot\u001b[39;00m _mask\u001b[38;5;241m.\u001b[39many():\n",
      "File \u001b[1;32m~\\miniconda3\\envs\\numerical_pde\\lib\\site-packages\\matplotlib\\contour.py:1485\u001b[0m, in \u001b[0;36mQuadContourSet._contour_args\u001b[1;34m(self, args, kwargs)\u001b[0m\n\u001b[0;32m   1483\u001b[0m     args \u001b[38;5;241m=\u001b[39m args[\u001b[38;5;241m1\u001b[39m:]\n\u001b[0;32m   1484\u001b[0m \u001b[38;5;28;01melif\u001b[39;00m Nargs \u001b[38;5;241m<\u001b[39m\u001b[38;5;241m=\u001b[39m \u001b[38;5;241m4\u001b[39m:\n\u001b[1;32m-> 1485\u001b[0m     x, y, z \u001b[38;5;241m=\u001b[39m \u001b[38;5;28;43mself\u001b[39;49m\u001b[38;5;241;43m.\u001b[39;49m\u001b[43m_check_xyz\u001b[49m\u001b[43m(\u001b[49m\u001b[43margs\u001b[49m\u001b[43m[\u001b[49m\u001b[43m:\u001b[49m\u001b[38;5;241;43m3\u001b[39;49m\u001b[43m]\u001b[49m\u001b[43m,\u001b[49m\u001b[43m \u001b[49m\u001b[43mkwargs\u001b[49m\u001b[43m)\u001b[49m\n\u001b[0;32m   1486\u001b[0m     args \u001b[38;5;241m=\u001b[39m args[\u001b[38;5;241m3\u001b[39m:]\n\u001b[0;32m   1487\u001b[0m \u001b[38;5;28;01melse\u001b[39;00m:\n",
      "File \u001b[1;32m~\\miniconda3\\envs\\numerical_pde\\lib\\site-packages\\matplotlib\\contour.py:1513\u001b[0m, in \u001b[0;36mQuadContourSet._check_xyz\u001b[1;34m(self, args, kwargs)\u001b[0m\n\u001b[0;32m   1510\u001b[0m z \u001b[38;5;241m=\u001b[39m ma\u001b[38;5;241m.\u001b[39masarray(args[\u001b[38;5;241m2\u001b[39m], dtype\u001b[38;5;241m=\u001b[39mnp\u001b[38;5;241m.\u001b[39mfloat64)\n\u001b[0;32m   1512\u001b[0m \u001b[38;5;28;01mif\u001b[39;00m z\u001b[38;5;241m.\u001b[39mndim \u001b[38;5;241m!=\u001b[39m \u001b[38;5;241m2\u001b[39m:\n\u001b[1;32m-> 1513\u001b[0m     \u001b[38;5;28;01mraise\u001b[39;00m \u001b[38;5;167;01mTypeError\u001b[39;00m(\u001b[38;5;124mf\u001b[39m\u001b[38;5;124m\"\u001b[39m\u001b[38;5;124mInput z must be 2D, not \u001b[39m\u001b[38;5;132;01m{\u001b[39;00mz\u001b[38;5;241m.\u001b[39mndim\u001b[38;5;132;01m}\u001b[39;00m\u001b[38;5;124mD\u001b[39m\u001b[38;5;124m\"\u001b[39m)\n\u001b[0;32m   1514\u001b[0m \u001b[38;5;28;01mif\u001b[39;00m z\u001b[38;5;241m.\u001b[39mshape[\u001b[38;5;241m0\u001b[39m] \u001b[38;5;241m<\u001b[39m \u001b[38;5;241m2\u001b[39m \u001b[38;5;129;01mor\u001b[39;00m z\u001b[38;5;241m.\u001b[39mshape[\u001b[38;5;241m1\u001b[39m] \u001b[38;5;241m<\u001b[39m \u001b[38;5;241m2\u001b[39m:\n\u001b[0;32m   1515\u001b[0m     \u001b[38;5;28;01mraise\u001b[39;00m \u001b[38;5;167;01mTypeError\u001b[39;00m(\u001b[38;5;124mf\u001b[39m\u001b[38;5;124m\"\u001b[39m\u001b[38;5;124mInput z must be at least a (2, 2) shaped array, \u001b[39m\u001b[38;5;124m\"\u001b[39m\n\u001b[0;32m   1516\u001b[0m                     \u001b[38;5;124mf\u001b[39m\u001b[38;5;124m\"\u001b[39m\u001b[38;5;124mbut has shape \u001b[39m\u001b[38;5;132;01m{\u001b[39;00mz\u001b[38;5;241m.\u001b[39mshape\u001b[38;5;132;01m}\u001b[39;00m\u001b[38;5;124m\"\u001b[39m)\n",
      "\u001b[1;31mTypeError\u001b[0m: Input z must be 2D, not 1D"
     ]
    },
    {
     "data": {
      "image/png": "[encoded data removed]",
      "text/plain": [
       "<Figure size 640x480 with 1 Axes>"
      ]
     },
     "metadata": {},
     "output_type": "display_data"
    }
   ],
   "source": [
    "X, U = system_1.get_solution()\n",
    "energies = system_1.get_energy()\n",
    "\n",
    "fig1, ax1 = plt.subplots()\n",
    "ax1.plot(energies)\n",
    "ax1.grid()\n",
    "plt.show(fig1)\n",
    "\n",
    "zs = U[-1]\n",
    "fig2, ax2 = plt.subplots()\n",
    "xs, ys = np.meshgrid(*X, indexing='ij')\n",
    "ax2.contourf(xs, ys, zs)\n",
    "# ax2.plot(X[0], U[-1][:, 50])\n",
    "ax2.grid()\n",
    "ax2.set_aspect('equal')\n",
    "# fig2.colorbar(ax2.contourf)\n",
    "plt.show(fig2)\n",
    "\n",
    "print(energies[-1])"
   ]
  },
  {
   "cell_type": "code",
   "execution_count": null,
   "metadata": {},
   "outputs": [],
   "source": [
    "energies"
   ]
  },
  {
   "cell_type": "code",
   "execution_count": null,
   "metadata": {},
   "outputs": [],
   "source": [
    "np.pi ** 2"
   ]
  },
  {
   "cell_type": "code",
   "execution_count": null,
   "metadata": {},
   "outputs": [],
   "source": [
    "t0, t1, dt = 0.0, 1.0, 1.0e-04\n",
    "x0, x1, dx = 0.0, 10.0, 0.1\n",
    "y0, y1, dy = 0.0, 10.0, 0.1\n",
    "z0, z1, dz = 0.0, 10.0, 0.1\n",
    "\n",
    "dom_t = Boundary(t0, t1, dt)\n",
    "dom_x = Boundary(x0, x1, dx)\n",
    "dom_y = Boundary(y0, y1, dy)\n",
    "dom_z = Boundary(z0, z1, dz)\n",
    "\n",
    "def pot(x, y, z):\n",
    "    return 0.0 \n",
    "    # return 0.5*(x*x + y*y)\n",
    "\n",
    "\n",
    "def init(x, y, z):\n",
    "    # return -1.0 *  ((x - 0.5) ** 2 + (y - 0.5) ** 2) + 0.5\n",
    "    return (np.random.randn(*x.shape) -0.5 ) * 150\n",
    "\n",
    "system_1 = DirichletSystem(pot=pot, time_dom=dom_t, spatial_doms=[dom_x, dom_y, dom_z])\n",
    "system_1.set_psi0_by_func(init)\n",
    "system_1.solve()"
   ]
  },
  {
   "cell_type": "code",
   "execution_count": null,
   "metadata": {},
   "outputs": [],
   "source": [
    "X, U = system_1.get_solution()\n",
    "energies = system_1.get_energy()\n",
    "\n",
    "fig1, ax1 = plt.subplots()\n",
    "ax1.plot(energies)\n",
    "ax1.grid()\n",
    "plt.show(fig1)\n",
    "\n",
    "# zs = U[-1]\n",
    "# fig2, ax2 = plt.subplots()\n",
    "# xs, ys = np.meshgrid(*X, indexing='ij')\n",
    "# ax2.contourf(xs, ys, zs)\n",
    "# ax2.plot(X[0], U[-1][:, 50])\n",
    "# ax2.grid()\n",
    "# ax2.set_aspect('equal')\n",
    "# fig2.colorbar(ax2.contourf)\n",
    "# plt.show(fig2)\n",
    "\n",
    "print(energies[-1])"
   ]
  }
 ],
 "metadata": {
  "kernelspec": {
   "display_name": "Python 3 (ipykernel)",
   "language": "python",
   "name": "python3"
  },
  "language_info": {
   "codemirror_mode": {
    "name": "ipython",
    "version": 3
   },
   "file_extension": ".py",
   "mimetype": "text/x-python",
   "name": "python",
   "nbconvert_exporter": "python",
   "pygments_lexer": "ipython3",
   "version": "3.10.4"
  },
  "vscode": {
   "interpreter": {
    "hash": "b2e5b7e03fe9e17d42ebd53b66a8d1e66060a9807a6f22e634857e347041ccb3"
   }
  }
 },
 "nbformat": 4,
 "nbformat_minor": 2
}
