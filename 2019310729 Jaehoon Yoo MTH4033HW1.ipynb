{
 "cells": [
  {
   "cell_type": "markdown",
   "metadata": {},
   "source": [
    "# Package"
   ]
  },
  {
   "cell_type": "code",
   "execution_count": null,
   "metadata": {},
   "outputs": [],
   "source": [
    "import numpy as np\n",
    "import matplotlib.pyplot as plt\n",
    "from matplotlib.animation import FuncAnimation\n",
    "from IPython import display"
   ]
  },
  {
   "cell_type": "markdown",
   "metadata": {},
   "source": [
    "# Mesh"
   ]
  },
  {
   "cell_type": "code",
   "execution_count": null,
   "metadata": {},
   "outputs": [],
   "source": [
    "def mesh(h, lamb):\n",
    "    k = lamb * h\n",
    "    x = np.arange(-3, 3, h)\n",
    "    x = np.append(x, np.array([3]))\n",
    "    \n",
    "    initial = initial_cond(x)\n",
    "    \n",
    "        \n",
    "    t = np.arange(0, 2, k)\n",
    "    t = np.append(t, np.array([2]))\n",
    "    \n",
    "    \n",
    "    xx, tt = np.meshgrid(x, t)\n",
    "    exact_mesh = xx - t[:, np.newaxis]\n",
    "    \n",
    "    u = np.zeros_like(xx)\n",
    "    u[0, :] = initial\n",
    "    return x, (u, exact_mesh)"
   ]
  },
  {
   "cell_type": "markdown",
   "metadata": {},
   "source": [
    "# Initial, exact solution"
   ]
  },
  {
   "cell_type": "code",
   "execution_count": null,
   "metadata": {},
   "outputs": [],
   "source": [
    "def initial_cond(x):\n",
    "    y = np.cos(np.pi * x) ** 2\n",
    "    y[np.abs(x)>0.5] = 0\n",
    "    return y"
   ]
  },
  {
   "cell_type": "code",
   "execution_count": null,
   "metadata": {},
   "outputs": [],
   "source": [
    "def exact_sol(mesh):\n",
    "    y = np.cos(np.pi*mesh)**2\n",
    "    for i in range(0, mesh.shape[0]):\n",
    "        y[i,:][np.abs(mesh[i,:]) > 1/2] = 0\n",
    "    return y"
   ]
  },
  {
   "cell_type": "markdown",
   "metadata": {},
   "source": [
    "# Plotting"
   ]
  },
  {
   "cell_type": "code",
   "execution_count": null,
   "metadata": {},
   "outputs": [],
   "source": [
    "def plotting_anim(x, ux, title='', skip_rate=1):\n",
    "    fig = plt.figure()\n",
    "    ax = fig.add_axes([0.1,0.1,0.8,0.8])\n",
    "    ax.set_xlabel(r'$x$')\n",
    "    ax.set_ylabel(r'$u(t, x)$')\n",
    "    ax.grid(True)\n",
    "    ax.set_title(title)\n",
    "    \n",
    "    ux = np.asarray(ux)\n",
    "    ux = ux[:, ::skip_rate, :]\n",
    "    \n",
    "    lines = []\n",
    "    for u, fmt, l in zip(ux, ['--b', '-r'], ['NSol', 'Exact']):\n",
    "        line, = ax.plot([], [], fmt, label=l, alpha=0.5)\n",
    "        lines.append(line)\n",
    "        ax.set_xlim(-3, 3)\n",
    "        ax.set_ylim(-0.5, 3.0)\n",
    "    fig.legend()\n",
    "\n",
    "    def animate(frame_num):\n",
    "        ax.set_title(f'{title} FRAME={frame_num * skip_rate:04d}')\n",
    "        for line, u in zip(lines, ux):\n",
    "            y = u[frame_num, :]\n",
    "            line.set_data((x, y))\n",
    "        return lines\n",
    "\n",
    "    anim = FuncAnimation(fig, animate, frames=ux[0].shape[0], interval=100)\n",
    "    video = anim.to_jshtml()\n",
    "    html = display.HTML(video)\n",
    "    display.display(html)\n",
    "    plt.close()"
   ]
  },
  {
   "cell_type": "markdown",
   "metadata": {},
   "source": [
    "# Numerical Scheme"
   ]
  },
  {
   "cell_type": "markdown",
   "metadata": {},
   "source": [
    "## Forwad-time backward-space\n",
    "\n",
    "$$ \\frac{v_{m}^{n+1} - v_{m}^{n}}{k} + a\\frac{v_{m}^{n} - v_{m-1}^{n}}{h} = 0$$\n",
    "&harr; $v_{m}^{n+1} = (1 - \\lambda)v_{m}^{n} + \\lambda v_{m-1}^{n} $"
   ]
  },
  {
   "cell_type": "code",
   "execution_count": null,
   "metadata": {},
   "outputs": [],
   "source": [
    "def ftbs(h, lamb):\n",
    "    x ,(u, exact) = mesh(h, lamb)\n",
    "    \n",
    "    exactsol = exact_sol(exact)\n",
    "    for i in range(0, u.shape[0]-1):\n",
    "        u[i+1, 1:] = (1-lamb)*u[i, 1:] + lamb*u[i, :-1]\n",
    "        \n",
    "    return x, (u, exactsol)"
   ]
  },
  {
   "cell_type": "markdown",
   "metadata": {},
   "source": [
    "## Forwad-time Central-space\n",
    "\n",
    "$$ \\frac{v_{m}^{n+1} - v_{m}^{n}}{k} + a\\frac{v_{m+1}^{n} - v_{m-1}^{n}}{2h} $$\n",
    "$$v_{m}^{n+1} = v_{m}^{n} + \\frac{\\lambda}{2}(v_{m-1}^{n} - v_{m+1}^{n})$$"
   ]
  },
  {
   "cell_type": "code",
   "execution_count": null,
   "metadata": {},
   "outputs": [],
   "source": [
    "def ftcs(h, lamb):\n",
    "    x, (u, exact) = mesh(h, lamb)\n",
    "\n",
    "    exactsol = exact_sol(exact)\n",
    "    for i in range(0, u.shape[0]-1):\n",
    "        u[i+1, 1:-1] = u[i, 1:-1] +  (u[i, 0: -2] - u[i, 2:]) * (lamb) * 0.5\n",
    "\n",
    "    return x, (u, exactsol)"
   ]
  },
  {
   "cell_type": "markdown",
   "metadata": {},
   "source": [
    "## Lax-Friedrichs\n",
    "\n",
    "$$ \\frac{v_{m}^{n+1} - \\frac{1}{2}\\left(v_{m+1}^{n}+v_{m-1}^{n}\\right)}{k} + a\\frac{v_{m+1}^{n} - v_{m-1}^{n}}{2h} $$\n",
    "$$ v_{m}^{n+1} = \\frac{1}{2}(1-\\lambda)v_{m+1}^{n} + \\frac{1}{2}(1+\\lambda)v_{m-1}^{n}$$"
   ]
  },
  {
   "cell_type": "code",
   "execution_count": null,
   "metadata": {},
   "outputs": [],
   "source": [
    "def lax_fried(h, lamb):\n",
    "    x, (u, exact) = mesh(h, lamb)\n",
    "    exactsol = exact_sol(exact)\n",
    "    for i in range(0,u.shape[0]-1):\n",
    "        u[i+1, 1:-1] = 1/2 * (1-lamb)*u[i, 2:] + (1/2)*(1+lamb)*u[i, 0:-2]\n",
    "    return x, (u, exactsol)"
   ]
  },
  {
   "cell_type": "markdown",
   "metadata": {},
   "source": [
    "## Leapfrog\n",
    "$$ \\frac{v_{m}^{n+1} - v_{m}^{n-1}}{2k} + a\\frac{v_{m+1}^{n} - v_{m-1}^{n}}{2h} $$\n",
    "$$ v_{m}^{n+1} = v_{m}^{n-1} -\\lambda( v_{m+1}^{n} - v_{m-1}^{n})$$\n",
    "Only `2-step` in this problem set. So I used first step, Lax - Friedrichs."
   ]
  },
  {
   "cell_type": "code",
   "execution_count": null,
   "metadata": {},
   "outputs": [],
   "source": [
    "def leapfrog(h, lamb):\n",
    "    x, (u, exact) = mesh(h, lamb)\n",
    "    exactsol = exact_sol(exact)\n",
    "    u[1, 1:-1] = 1/2 * (1-lamb)*u[0, 2:] + (1/2)*(1+lamb)*u[0, 0:-2]\n",
    "    for i in range(1, u.shape[0]-1):\n",
    "        u[i+1, 1:-1] = u[i-1,  1:-1] - lamb*(u[i, 2:] - u[i, :-2])\n",
    "    return x, (u, exactsol)"
   ]
  },
  {
   "cell_type": "markdown",
   "metadata": {},
   "source": [
    "# Result"
   ]
  },
  {
   "cell_type": "markdown",
   "metadata": {},
   "source": [
    "### Forward-time backward-space"
   ]
  },
  {
   "cell_type": "code",
   "execution_count": null,
   "metadata": {},
   "outputs": [],
   "source": [
    "x, ux = ftbs(0.1, 0.8)\n",
    "plotting_anim(x, ux, title='Forward-time backward-space(h=0.1)', skip_rate=1)"
   ]
  },
  {
   "cell_type": "code",
   "execution_count": null,
   "metadata": {},
   "outputs": [],
   "source": [
    "x, ux = ftbs(0.05, 0.8)\n",
    "plotting_anim(x, ux, title='Forward-time backward-space(h=0.05)', skip_rate=1)"
   ]
  },
  {
   "cell_type": "code",
   "execution_count": null,
   "metadata": {},
   "outputs": [],
   "source": [
    "x, ux = ftbs(0.025, 0.8)\n",
    "plotting_anim(x, ux, title='Forward-time backward-space(h=0.025)', skip_rate=1)"
   ]
  },
  {
   "cell_type": "markdown",
   "metadata": {},
   "source": [
    "### Forward-time central-space"
   ]
  },
  {
   "cell_type": "code",
   "execution_count": null,
   "metadata": {},
   "outputs": [],
   "source": [
    "x, ux = ftcs(0.1, 0.8)\n",
    "plotting_anim(x, ux, title='Forward-time central-space(h=0.1)', skip_rate=1)"
   ]
  },
  {
   "cell_type": "code",
   "execution_count": null,
   "metadata": {},
   "outputs": [],
   "source": [
    "x, ux = ftcs(0.05, 0.8)\n",
    "plotting_anim(x, ux, title='Forward-time central-space(h=0.05)', skip_rate=1)"
   ]
  },
  {
   "cell_type": "code",
   "execution_count": null,
   "metadata": {},
   "outputs": [],
   "source": [
    "x, ux = ftcs(0.025, 0.8)\n",
    "plotting_anim(x, ux, title='Forward-time central-space(h=0.025)', skip_rate=1)"
   ]
  },
  {
   "cell_type": "markdown",
   "metadata": {},
   "source": [
    "## Lax-Friedrichs"
   ]
  },
  {
   "cell_type": "markdown",
   "metadata": {},
   "source": [
    "### $\\lambda = 0.8$"
   ]
  },
  {
   "cell_type": "code",
   "execution_count": null,
   "metadata": {},
   "outputs": [],
   "source": [
    "x, ux = lax_fried(0.1, 0.8)\n",
    "plotting_anim(x, ux, title='Lax-Friedrichs(h=0.1)', skip_rate=1)"
   ]
  },
  {
   "cell_type": "code",
   "execution_count": null,
   "metadata": {},
   "outputs": [],
   "source": [
    "x, ux = lax_fried(0.05, 0.8)\n",
    "plotting_anim(x, ux, title='Lax-Friedrichs(h=0.05)', skip_rate=1)"
   ]
  },
  {
   "cell_type": "code",
   "execution_count": null,
   "metadata": {},
   "outputs": [],
   "source": [
    "x, ux = lax_fried(0.025, 1)\n",
    "plotting_anim(x, ux, title='Lax-Friedrichs(h=0.025)', skip_rate=1)"
   ]
  },
  {
   "cell_type": "markdown",
   "metadata": {},
   "source": [
    "### $\\lambda = 1.6 $"
   ]
  },
  {
   "cell_type": "code",
   "execution_count": null,
   "metadata": {},
   "outputs": [],
   "source": [
    "x, ux = lax_fried(0.1, 1.6)\n",
    "plotting_anim(x, ux, title='Lax-Friedrichs(h=0.1)', skip_rate=1)"
   ]
  },
  {
   "cell_type": "code",
   "execution_count": null,
   "metadata": {},
   "outputs": [],
   "source": [
    "x, ux = lax_fried(0.05, 1.6)\n",
    "plotting_anim(x, ux, title='Lax-Friedrichs(h=0.05)', skip_rate=1)"
   ]
  },
  {
   "cell_type": "code",
   "execution_count": null,
   "metadata": {},
   "outputs": [],
   "source": [
    "x, ux = lax_fried(0.025, 1.6)\n",
    "plotting_anim(x, ux, title='Lax-Friedrichs(h=0.025)', skip_rate=1)"
   ]
  },
  {
   "cell_type": "markdown",
   "metadata": {},
   "source": [
    "## Leapfrog"
   ]
  },
  {
   "cell_type": "code",
   "execution_count": null,
   "metadata": {},
   "outputs": [],
   "source": [
    "x, ux = leapfrog(0.1, 0.8)\n",
    "plotting_anim(x, ux, title='leapfrog(h=0.1)', skip_rate=1)"
   ]
  },
  {
   "cell_type": "code",
   "execution_count": null,
   "metadata": {},
   "outputs": [],
   "source": [
    "x, ux = leapfrog(0.05, 0.8)\n",
    "plotting_anim(x, ux, title='leapfrog(h=0.05)', skip_rate=1)"
   ]
  },
  {
   "cell_type": "code",
   "execution_count": null,
   "metadata": {},
   "outputs": [],
   "source": [
    "x, ux = leapfrog(0.025, 0.8)\n",
    "plotting_anim(x, ux, title='leapfrog(h=0.025)', skip_rate=1)"
   ]
  }
 ],
 "metadata": {
  "kernelspec": {
   "display_name": "Python 3.10.4 ('numerical_pde')",
   "language": "python",
   "name": "python3"
  },
  "language_info": {
   "codemirror_mode": {
    "name": "ipython",
    "version": 3
   },
   "file_extension": ".py",
   "mimetype": "text/x-python",
   "name": "python",
   "nbconvert_exporter": "python",
   "pygments_lexer": "ipython3",
   "version": "3.10.4"
  },
  "orig_nbformat": 4,
  "vscode": {
   "interpreter": {
    "hash": "b2e5b7e03fe9e17d42ebd53b66a8d1e66060a9807a6f22e634857e347041ccb3"
   }
  }
 },
 "nbformat": 4,
 "nbformat_minor": 2
}
