{
 "cells": [
  {
   "cell_type": "code",
   "execution_count": null,
   "metadata": {},
   "outputs": [],
   "source": [
    "import numpy as np\n",
    "import matplotlib.pyplot as plt\n",
    "from matplotlib.animation import FuncAnimation\n",
    "from IPython import display\n",
    "from itertools import cycle"
   ]
  },
  {
   "cell_type": "markdown",
   "metadata": {},
   "source": [
    "# Initial Condition\n"
   ]
  },
  {
   "cell_type": "code",
   "execution_count": null,
   "metadata": {},
   "outputs": [],
   "source": [
    "def initial_cond(x):\n",
    "    y = np.sin(2*np.pi*x)\n",
    "    return y\n"
   ]
  },
  {
   "cell_type": "markdown",
   "metadata": {},
   "source": [
    "# Mesh\n"
   ]
  },
  {
   "cell_type": "code",
   "execution_count": null,
   "metadata": {},
   "outputs": [],
   "source": [
    "def mesh(k, lamb):\n",
    "    h = k * lamb**(-1)\n",
    "    x = np.arange(0, 1, h)\n",
    "    x = np.append(x, np.array([1]))\n",
    "    \n",
    "    t = np.arange(0, 0.5, k)\n",
    "    t = np.append(t, np.array([0.5]))\n",
    "    \n",
    "    xx, tt = np.meshgrid(x, t)\n",
    "    exact_mesh = xx - t[:, np.newaxis]\n",
    "    \n",
    "    u = np.zeros_like(xx)\n",
    "    u[0, :] = initial_cond(x)\n",
    "    \n",
    "    return xx, (u, exact_mesh)"
   ]
  },
  {
   "cell_type": "markdown",
   "metadata": {},
   "source": [
    "# Exact Solution"
   ]
  },
  {
   "cell_type": "code",
   "execution_count": null,
   "metadata": {},
   "outputs": [],
   "source": [
    "def exact_sol(mesh):\n",
    "    y = np.sin(2*np.pi*mesh)\n",
    "\n",
    "    return y\n"
   ]
  },
  {
   "cell_type": "markdown",
   "metadata": {},
   "source": [
    "# Plotting"
   ]
  },
  {
   "cell_type": "code",
   "execution_count": null,
   "metadata": {},
   "outputs": [],
   "source": [
    "def plotting_anim(x, ux, title='', skip_rate=1, labels=None, fmts=None):\n",
    "    \"\"\"\n",
    "    x --> mesh --> (N_steps, N_space)\n",
    "    ux --> [ux_1, ux_2, ..., exact] --> (N_sols, N_steps, N_space)\n",
    "    \"\"\"\n",
    "    fig = plt.figure()\n",
    "    ax = fig.add_axes([0.1,0.1,0.8,0.8])\n",
    "    ax.set_xlabel(r'$x$')\n",
    "    ax.set_ylabel(r'$u(t, x)$')\n",
    "    ax.grid(True)\n",
    "    ax.set_title(title)\n",
    "    \n",
    "    ux = np.asarray(ux)\n",
    "    ux = ux[:, ::skip_rate, :]\n",
    "    \n",
    "    # The number of solutions.\n",
    "    n_sols = ux.shape[0]\n",
    "\n",
    "    if labels is None:\n",
    "        labels = ['NSol_' + str(i) for i in range(1, n_sols)]\n",
    "        labels.append('Exact')\n",
    "\n",
    "    if fmts is None:\n",
    "        fmts = [c for _, c in zip(range(n_sols), cycle('bgrcmyk'))]\n",
    "        fmts[0] += '-'\n",
    "\n",
    "    lines = []\n",
    "    for _, fmt, l in zip(reversed(ux), reversed(fmts), reversed(labels)):\n",
    "        line, = ax.plot([], [], fmt, label=l, alpha=0.9, lw=5)\n",
    "        lines.append(line)\n",
    "        ax.set_xlim(0, 1)\n",
    "        ax.set_ylim(-2, 2)\n",
    "    fig.legend()\n",
    "\n",
    "    def animate(frame_num):\n",
    "        ax.set_title(f'{title} FRAME={frame_num * skip_rate:04d}')\n",
    "        for line, u, x_coord in zip(lines, ux, x):\n",
    "            y = u[frame_num, :]\n",
    "            line.set_data((x_coord, y))\n",
    "        return lines\n",
    "\n",
    "    anim = FuncAnimation(fig, animate, frames=ux[0].shape[0], interval=100)\n",
    "    video = anim.to_jshtml()\n",
    "    html = display.HTML(video)\n",
    "    display.display(html)\n",
    "    plt.close()"
   ]
  },
  {
   "cell_type": "markdown",
   "metadata": {},
   "source": [
    "## Leapfrog\n",
    "$$ \\frac{v_{m}^{n+1} - v_{m}^{n-1}}{2k} + a\\frac{v_{m+1}^{n} - v_{m-1}^{n}}{2h} $$\n",
    "$$ v_{m}^{n+1} = v_{m}^{n-1} -\\lambda( v_{m+1}^{n} - v_{m-1}^{n})$$\n",
    "Only `2-step` in this problem set. So I used first step, Lax - Friedrichs."
   ]
  },
  {
   "cell_type": "markdown",
   "metadata": {},
   "source": [
    "### With boundary condition (a)\n",
    "$$v_{M}^{n+1} = 2v_{M-1}^{n+1} - v_{M-2}^{n+1}$$"
   ]
  },
  {
   "cell_type": "code",
   "execution_count": null,
   "metadata": {},
   "outputs": [],
   "source": [
    "def leapfrog1(k, lamb):\n",
    "    x, (u, exact) = mesh(k, lamb)\n",
    "    exactsol = exact_sol(exact)\n",
    "    left = exact_sol(exact[:, 0])\n",
    "    u[:, 0] = left\n",
    "    u[1, 1:-1] = 1/2 * (1-lamb)*u[0, 2:] + (1/2)*(1+lamb)*u[0, 0:-2]\n",
    "    u[1, -1] = 2*u[1, -2] - u[1, -3]\n",
    "    for i in range(1, u.shape[0]-1):\n",
    "        u[i+1, 1:-1] = u[i-1,  1:-1] - lamb*(u[i, 2:] - u[i, :-2])\n",
    "        u[i+1, -1] = 2*u[i+1, -2] - u[i+1, -3]\n",
    "\n",
    "    return x, [u, exactsol]"
   ]
  },
  {
   "cell_type": "markdown",
   "metadata": {},
   "source": [
    "### With boundary condition (b)\n",
    "$$v_{M}^{n+1} = v_{M-1}^{n}"
   ]
  },
  {
   "cell_type": "code",
   "execution_count": null,
   "metadata": {},
   "outputs": [],
   "source": [
    "def leapfrog2(k, lamb):\n",
    "    x, (u, exact) = mesh(k, lamb)\n",
    "    exactsol = exact_sol(exact)\n",
    "    left = exact_sol(exact[:, 0])\n",
    "    u[:, 0] = left\n",
    "    u[1, 1:-1] = 1/2 * (1-lamb)*u[0, 2:] + (1/2)*(1+lamb)*u[0, 0:-2]\n",
    "    u[1, -1] = u[0, -2]\n",
    "    for i in range(1, u.shape[0]-1):\n",
    "        u[i+1, 1:-1] = u[i-1,  1:-1] - lamb*(u[i, 2:] - u[i, :-2])\n",
    "        u[i+1, -1] = u[i, -2]\n",
    "    return x, [u, exactsol]"
   ]
  },
  {
   "cell_type": "code",
   "execution_count": null,
   "metadata": {},
   "outputs": [],
   "source": [
    "x, ux1 = leapfrog1(0.02, 0.9)\n",
    "_, ux2 = leapfrog2(0.02, 0.9)"
   ]
  },
  {
   "cell_type": "code",
   "execution_count": null,
   "metadata": {},
   "outputs": [],
   "source": [
    "plotting_anim(x, [*ux1], title='Problem $(a)$', skip_rate=1, fmts=('c.', 'r-'))\n",
    "plotting_anim(x, [*ux2], title='Problem $(b)$', skip_rate=1, fmts=('c.', 'r-'))"
   ]
  },
  {
   "cell_type": "code",
   "execution_count": null,
   "metadata": {},
   "outputs": [],
   "source": [
    "plotting_anim(x, [ux1[0], *ux2], fmts=('c.', 'gs', 'r-'))"
   ]
  },
  {
   "cell_type": "code",
   "execution_count": null,
   "metadata": {},
   "outputs": [],
   "source": [
    "plt.plot(x[-1, :], ux1[1][-1, :], c='C6', label='True sol', alpha=1, lw=4)\n",
    "plt.plot(x[-1, :], ux1[0][-1, :], 'gs', label='Problem (a)')\n",
    "plt.plot(x[-1, :], ux2[0][-1, :], 'c.', label='Problem (b)')\n",
    "plt.legend()\n",
    "plt.grid(True)\n",
    "plt.title(\"Compare at $T=0.5$, $k=0.02, \\lambda = 0.9$\")\n",
    "plt.show()"
   ]
  },
  {
   "cell_type": "code",
   "execution_count": null,
   "metadata": {},
   "outputs": [],
   "source": []
  }
 ],
 "metadata": {
  "kernelspec": {
   "display_name": "Python 3.10.4 ('numerical_pde')",
   "language": "python",
   "name": "python3"
  },
  "language_info": {
   "codemirror_mode": {
    "name": "ipython",
    "version": 3
   },
   "file_extension": ".py",
   "mimetype": "text/x-python",
   "name": "python",
   "nbconvert_exporter": "python",
   "pygments_lexer": "ipython3",
   "version": "3.10.4"
  },
  "orig_nbformat": 4,
  "vscode": {
   "interpreter": {
    "hash": "b2e5b7e03fe9e17d42ebd53b66a8d1e66060a9807a6f22e634857e347041ccb3"
   }
  }
 },
 "nbformat": 4,
 "nbformat_minor": 2
}
