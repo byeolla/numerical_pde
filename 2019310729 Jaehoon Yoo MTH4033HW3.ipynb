{
 "cells": [
  {
   "cell_type": "markdown",
   "metadata": {},
   "source": [
    "# Package"
   ]
  },
  {
   "cell_type": "code",
   "execution_count": 1,
   "metadata": {},
   "outputs": [],
   "source": [
    "import numpy as np\n",
    "import pandas as pd"
   ]
  },
  {
   "cell_type": "markdown",
   "metadata": {},
   "source": [
    "# Mesh"
   ]
  },
  {
   "cell_type": "code",
   "execution_count": 2,
   "metadata": {},
   "outputs": [],
   "source": [
    "def mesh(h, lamb):\n",
    "    k = lamb * h\n",
    "    x = np.arange(-2, 5, h)\n",
    "    x = np.append(x, np.array([5]))\n",
    "    \n",
    "    initial = initial_cond(x)\n",
    "    \n",
    "        \n",
    "    t = np.arange(0, 1, k)\n",
    "    t = np.append(t, np.array([1]))\n",
    "    \n",
    "    \n",
    "    xx, tt = np.meshgrid(x, t)\n",
    "    exact_mesh = xx - t[:, np.newaxis]\n",
    "    \n",
    "    u = np.zeros_like(xx)\n",
    "    u[0, :] = initial\n",
    "    return x, (u, exact_mesh)"
   ]
  },
  {
   "cell_type": "code",
   "execution_count": 3,
   "metadata": {},
   "outputs": [],
   "source": [
    "def initial_cond(x):\n",
    "    y = np.cos(np.pi * x) ** 2\n",
    "    y[np.abs(x)>0.5] = 0\n",
    "    return y"
   ]
  },
  {
   "cell_type": "code",
   "execution_count": 4,
   "metadata": {},
   "outputs": [],
   "source": [
    "def exact_sol(mesh):\n",
    "    y = np.cos(np.pi*mesh)**2\n",
    "    for i in range(0, mesh.shape[0]):\n",
    "        y[i,:][np.abs(mesh[i,:]) > 1/2] = 0\n",
    "    return y\n"
   ]
  },
  {
   "cell_type": "markdown",
   "metadata": {},
   "source": [
    "# Lax-Friedrichs\n",
    "\n",
    "$$ \\frac{v_{m}^{n+1} - \\frac{1}{2}\\left(v_{m+1}^{n}+v_{m-1}^{n}\\right)}{k} + a\\frac{v_{m+1}^{n} - v_{m-1}^{n}}{2h} $$\n",
    "$$ v_{m}^{n+1} = \\frac{1}{2}(1-\\lambda)v_{m+1}^{n} + \\frac{1}{2}(1+\\lambda)v_{m-1}^{n}$$"
   ]
  },
  {
   "cell_type": "code",
   "execution_count": 5,
   "metadata": {},
   "outputs": [],
   "source": [
    "def lax_fried(h, lamb=0.8):\n",
    "    x, (u, exact) = mesh(h, lamb)\n",
    "    exactsol = exact_sol(exact)\n",
    "    for i in range(0,u.shape[0]-1):\n",
    "        u[i, 0] = 0 ; u[i, -1] = 0\n",
    "        u[i+1, 1:-1] = 1/2 * (1-lamb)*u[i, 2:] + (1/2)*(1+lamb)*u[i, 0:-2]\n",
    "        \n",
    "    error = (h * np.sum((u[-1,:]-exactsol[-1,:])**2))**0.5\n",
    "    return error"
   ]
  },
  {
   "cell_type": "markdown",
   "metadata": {},
   "source": [
    "# Lax-Wendroff\n",
    "$$v_{m}^{n+1} = v_{m}^{n} - \\frac{a}{2}\\lambda (v_{m+1}^{n}-v_{m-1}^{n})+\\frac{a^{2}}{2}\\lambda^{2}(v_{m+1}-2v_{m}^{n}+v_{m-1}^{n})\\\\\n",
    "a=1$$"
   ]
  },
  {
   "cell_type": "code",
   "execution_count": 6,
   "metadata": {},
   "outputs": [],
   "source": [
    "def lax_wend(h, lamb=0.8):\n",
    "    x, (u, exact) = mesh(h, lamb)\n",
    "    exactsol = exact_sol(exact)\n",
    "    for i in range(0,u.shape[0]-1):\n",
    "        u[i, 0] = 0 ; u[i, -1] = 0\n",
    "        u[i+1, 1:-1] = u[i, 1:-1] - 0.5*lamb*(u[i, 2:]-u[i, 0:-2])+0.5*(lamb**2)*(u[i,2:]-2*u[i,1:-1] + u[i, :-2])\n",
    "\n",
    "    error = (h * np.sum((u[-1,:]-exactsol[-1,:])**2))**0.5\n",
    "    return error"
   ]
  },
  {
   "cell_type": "code",
   "execution_count": 7,
   "metadata": {},
   "outputs": [],
   "source": [
    "h = [0.1, 0.05, 0.025, 0.0125]\n",
    "fried_error=[]\n",
    "wend_error=[]\n",
    "for i in h:\n",
    "    fried_error.append(lax_fried(i))\n",
    "    wend_error.append(lax_wend(i))\n",
    "\n",
    "result={'h':h,'wendroff error':wend_error,'wendroff order':[2,2,2,2], 'friedrichs error':fried_error,'friedrichs order':[1,1,1,1]}"
   ]
  },
  {
   "cell_type": "code",
   "execution_count": 8,
   "metadata": {},
   "outputs": [
    {
     "data": {
      "text/html": [
       "<div>\n",
       "<style scoped>\n",
       "    .dataframe tbody tr th:only-of-type {\n",
       "        vertical-align: middle;\n",
       "    }\n",
       "\n",
       "    .dataframe tbody tr th {\n",
       "        vertical-align: top;\n",
       "    }\n",
       "\n",
       "    .dataframe thead tr th {\n",
       "        text-align: left;\n",
       "    }\n",
       "\n",
       "    .dataframe thead tr:last-of-type th {\n",
       "        text-align: right;\n",
       "    }\n",
       "</style>\n",
       "<table border=\"1\" class=\"dataframe\">\n",
       "  <thead>\n",
       "    <tr>\n",
       "      <th></th>\n",
       "      <th colspan=\"2\" halign=\"left\">Lax-Wendroff</th>\n",
       "      <th colspan=\"2\" halign=\"left\">Lax-Friedrichs</th>\n",
       "    </tr>\n",
       "    <tr>\n",
       "      <th></th>\n",
       "      <th>Error</th>\n",
       "      <th>Order</th>\n",
       "      <th>Error</th>\n",
       "      <th>Order</th>\n",
       "    </tr>\n",
       "    <tr>\n",
       "      <th>h</th>\n",
       "      <th></th>\n",
       "      <th></th>\n",
       "      <th></th>\n",
       "      <th></th>\n",
       "    </tr>\n",
       "  </thead>\n",
       "  <tbody>\n",
       "    <tr>\n",
       "      <th>0.1000</th>\n",
       "      <td>0.058763</td>\n",
       "      <td>2</td>\n",
       "      <td>0.217857</td>\n",
       "      <td>1</td>\n",
       "    </tr>\n",
       "    <tr>\n",
       "      <th>0.0500</th>\n",
       "      <td>0.015824</td>\n",
       "      <td>2</td>\n",
       "      <td>0.114640</td>\n",
       "      <td>1</td>\n",
       "    </tr>\n",
       "    <tr>\n",
       "      <th>0.0250</th>\n",
       "      <td>0.004592</td>\n",
       "      <td>2</td>\n",
       "      <td>0.064999</td>\n",
       "      <td>1</td>\n",
       "    </tr>\n",
       "    <tr>\n",
       "      <th>0.0125</th>\n",
       "      <td>0.001343</td>\n",
       "      <td>2</td>\n",
       "      <td>0.035039</td>\n",
       "      <td>1</td>\n",
       "    </tr>\n",
       "  </tbody>\n",
       "</table>\n",
       "</div>"
      ],
      "text/plain": [
       "       Lax-Wendroff       Lax-Friedrichs      \n",
       "              Error Order          Error Order\n",
       "h                                             \n",
       "0.1000     0.058763     2       0.217857     1\n",
       "0.0500     0.015824     2       0.114640     1\n",
       "0.0250     0.004592     2       0.064999     1\n",
       "0.0125     0.001343     2       0.035039     1"
      ]
     },
     "execution_count": 8,
     "metadata": {},
     "output_type": "execute_result"
    }
   ],
   "source": [
    "df1 = pd.DataFrame.from_dict(result)\n",
    "df1.set_index(\"h\", inplace=True)\n",
    "df1.columns = [[\"Lax-Wendroff\", \"Lax-Wendroff\", \"Lax-Friedrichs\",\"Lax-Friedrichs\"], ['Error', 'Order', 'Error', 'Order']]\n",
    "df1.head()"
   ]
  }
 ],
 "metadata": {
  "kernelspec": {
   "display_name": "Python 3.10.4 ('numerical_pde')",
   "language": "python",
   "name": "python3"
  },
  "language_info": {
   "codemirror_mode": {
    "name": "ipython",
    "version": 3
   },
   "file_extension": ".py",
   "mimetype": "text/x-python",
   "name": "python",
   "nbconvert_exporter": "python",
   "pygments_lexer": "ipython3",
   "version": "3.10.4"
  },
  "orig_nbformat": 4,
  "vscode": {
   "interpreter": {
    "hash": "b2e5b7e03fe9e17d42ebd53b66a8d1e66060a9807a6f22e634857e347041ccb3"
   }
  }
 },
 "nbformat": 4,
 "nbformat_minor": 2
}
